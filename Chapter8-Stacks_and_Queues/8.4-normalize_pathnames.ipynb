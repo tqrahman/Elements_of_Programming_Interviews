{
 "cells": [
  {
   "cell_type": "markdown",
   "metadata": {},
   "source": [
    "Write a program which takes a pathname and returns the shortest equivalent pathname. Assume individual directories and files have names that use only alphanumeric characters. Subdirectory names can be combined using forward slashes (/), the current directory (.), and parent directory (..)."
   ]
  },
  {
   "cell_type": "code",
   "execution_count": 1,
   "metadata": {},
   "outputs": [],
   "source": [
    "def shortest_equivalent_path(path: str) -> str:\n",
    "    \n",
    "    # If a path is NOT given, raise a Value Error\n",
    "    if not path:\n",
    "        raise ValueError(\"Empty string is not a valid path\")\n",
    "    \n",
    "    # Empty list to contain path\n",
    "    path_names = []\n",
    "\n",
    "    # If the first char is a '/' append it to path_names\n",
    "    if path[0] == '/':\n",
    "        path_names.append('/')\n",
    "\n",
    "    # Loop through tokens after being split by \"/\"\n",
    "    for token in (token for token in path.split('/') if token not in ['.','']):\n",
    "        \n",
    "        # If token is '..' \n",
    "        if token == '..':\n",
    "            \n",
    "            # If '..' is not the first element or the last element, add to path_names \n",
    "            if not path_names or path_names[-1] == '..':\n",
    "                path_names.append(token)\n",
    "            \n",
    "            # Else \n",
    "            else:\n",
    "                if path_names[-1] == '/':\n",
    "                    raise ValueError('Path Error')\n",
    "                path_names.pop()\n",
    "        else:\n",
    "            path_names.append(token)\n",
    "    result = '/'.join(path_names)\n",
    "    \n",
    "    return result[result.startswith('//'):]"
   ]
  },
  {
   "cell_type": "code",
   "execution_count": 2,
   "metadata": {},
   "outputs": [
    {
     "data": {
      "text/plain": [
       "'tc/awk'"
      ]
     },
     "execution_count": 2,
     "metadata": {},
     "output_type": "execute_result"
    }
   ],
   "source": [
    "path = \"sc//./../tc/awk/././\"\n",
    "shortest_equivalent_path(path)"
   ]
  },
  {
   "cell_type": "code",
   "execution_count": null,
   "metadata": {},
   "outputs": [],
   "source": []
  }
 ],
 "metadata": {
  "kernelspec": {
   "display_name": "Python 3.10.6 64-bit",
   "language": "python",
   "name": "python3"
  },
  "language_info": {
   "codemirror_mode": {
    "name": "ipython",
    "version": 3
   },
   "file_extension": ".py",
   "mimetype": "text/x-python",
   "name": "python",
   "nbconvert_exporter": "python",
   "pygments_lexer": "ipython3",
   "version": "3.10.6"
  },
  "orig_nbformat": 4,
  "vscode": {
   "interpreter": {
    "hash": "aee8b7b246df8f9039afb4144a1f6fd8d2ca17a180786b69acc140d282b71a49"
   }
  }
 },
 "nbformat": 4,
 "nbformat_minor": 2
}
