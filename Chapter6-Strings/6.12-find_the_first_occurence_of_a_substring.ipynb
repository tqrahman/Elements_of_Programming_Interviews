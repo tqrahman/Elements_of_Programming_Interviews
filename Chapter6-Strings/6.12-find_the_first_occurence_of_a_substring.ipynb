{
 "cells": [
  {
   "cell_type": "markdown",
   "metadata": {},
   "source": [
    "# Find the First Occurrence of a Substring\n",
    "Given two strings, s(the search string) and t (the text), find the first occurrence of s in t."
   ]
  },
  {
   "cell_type": "code",
   "execution_count": 40,
   "metadata": {},
   "outputs": [],
   "source": [
    "def my_solution(t: str, s: str) -> int:\n",
    "    \n",
    "    t_pointer = 0\n",
    "    \n",
    "    while t_pointer < len(t):\n",
    "        if t[t_pointer] == s[0]:\n",
    "            s_pointer = 1\n",
    "            while s_pointer <= len(s)-1:\n",
    "                if s[s_pointer] != t[t_pointer+s_pointer]:\n",
    "                    break\n",
    "                s_pointer += 1\n",
    "            if s_pointer == len(s):\n",
    "                print(True)\n",
    "                return t_pointer + 1\n",
    "        t_pointer += 1\n",
    "\n",
    "    return 0"
   ]
  },
  {
   "cell_type": "code",
   "execution_count": 41,
   "metadata": {},
   "outputs": [],
   "source": [
    "t = \"The quick brown fox jumped over fox the lazy dog\"\n",
    "s = \"qu\""
   ]
  },
  {
   "cell_type": "code",
   "execution_count": 42,
   "metadata": {},
   "outputs": [
    {
     "name": "stdout",
     "output_type": "stream",
     "text": [
      "True\n"
     ]
    },
    {
     "data": {
      "text/plain": [
       "5"
      ]
     },
     "execution_count": 42,
     "metadata": {},
     "output_type": "execute_result"
    }
   ],
   "source": [
    "my_solution(t, s)"
   ]
  },
  {
   "cell_type": "code",
   "execution_count": null,
   "metadata": {},
   "outputs": [],
   "source": []
  }
 ],
 "metadata": {
  "kernelspec": {
   "display_name": "Python 3.10.6 64-bit",
   "language": "python",
   "name": "python3"
  },
  "language_info": {
   "codemirror_mode": {
    "name": "ipython",
    "version": 3
   },
   "file_extension": ".py",
   "mimetype": "text/x-python",
   "name": "python",
   "nbconvert_exporter": "python",
   "pygments_lexer": "ipython3",
   "version": "3.10.6"
  },
  "orig_nbformat": 4,
  "vscode": {
   "interpreter": {
    "hash": "aee8b7b246df8f9039afb4144a1f6fd8d2ca17a180786b69acc140d282b71a49"
   }
  }
 },
 "nbformat": 4,
 "nbformat_minor": 2
}
