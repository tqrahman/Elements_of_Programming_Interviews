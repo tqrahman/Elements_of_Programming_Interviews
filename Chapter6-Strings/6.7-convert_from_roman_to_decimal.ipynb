{
 "cells": [
  {
   "cell_type": "markdown",
   "metadata": {},
   "source": [
    "# Convert from Roman to Decimal\n",
    "Write a program which takes as input a valid Roman number string s and returns the integer it corresponds to."
   ]
  },
  {
   "cell_type": "code",
   "execution_count": 15,
   "metadata": {},
   "outputs": [],
   "source": [
    "def my_solution(s: str) -> int:\n",
    "    roman_to_numerical = {\n",
    "        'I':1,\n",
    "        'V':5,\n",
    "        'X':10,\n",
    "        'L':50,\n",
    "        'C':100,\n",
    "        'D':500,\n",
    "        'M':1000\n",
    "    }\n",
    "    \n",
    "    num = 0\n",
    "    i = 0\n",
    "    while i < len(s):\n",
    "        if i != len(s) - 1 and s[i] in 'IXC' and roman_to_numerical[s[i+1]] > roman_to_numerical[s[i]]:\n",
    "            num += roman_to_numerical[s[i+1]] - roman_to_numerical[s[i]]\n",
    "            i += 2\n",
    "        else:\n",
    "            num += roman_to_numerical[s[i]]\n",
    "            i += 1\n",
    "        print(i, num)\n",
    "\n",
    "    # for i in range(len(s)):\n",
    "    #     if i != len(s) - 1 and s[i] in 'IXC' and roman_to_numerical[s[i+1]] > roman_to_numerical[s[i]]:\n",
    "    #         num += roman_to_numerical[s[i+1]] - roman_to_numerical[s[i]]\n",
    "    #     else:\n",
    "    #         num += roman_to_numerical[s[i]]\n",
    "    #     print(i, num)\n",
    "    \n",
    "    return num"
   ]
  },
  {
   "cell_type": "code",
   "execution_count": 17,
   "metadata": {},
   "outputs": [
    {
     "name": "stdout",
     "output_type": "stream",
     "text": [
      "1 50\n",
      "2 55\n",
      "3 56\n",
      "4 57\n",
      "5 58\n"
     ]
    },
    {
     "data": {
      "text/plain": [
       "58"
      ]
     },
     "execution_count": 17,
     "metadata": {},
     "output_type": "execute_result"
    }
   ],
   "source": [
    "roman = 'LVIII'\n",
    "my_solution(roman)"
   ]
  },
  {
   "cell_type": "code",
   "execution_count": 5,
   "metadata": {},
   "outputs": [
    {
     "name": "stdout",
     "output_type": "stream",
     "text": [
      "L\n",
      "V\n",
      "I\n",
      "I\n",
      "I\n",
      "I\n"
     ]
    }
   ],
   "source": [
    "for i in roman:\n",
    "    print(i)"
   ]
  },
  {
   "cell_type": "code",
   "execution_count": null,
   "metadata": {},
   "outputs": [],
   "source": []
  }
 ],
 "metadata": {
  "kernelspec": {
   "display_name": "Python 3.10.6 64-bit",
   "language": "python",
   "name": "python3"
  },
  "language_info": {
   "codemirror_mode": {
    "name": "ipython",
    "version": 3
   },
   "file_extension": ".py",
   "mimetype": "text/x-python",
   "name": "python",
   "nbconvert_exporter": "python",
   "pygments_lexer": "ipython3",
   "version": "3.10.6"
  },
  "orig_nbformat": 4,
  "vscode": {
   "interpreter": {
    "hash": "aee8b7b246df8f9039afb4144a1f6fd8d2ca17a180786b69acc140d282b71a49"
   }
  }
 },
 "nbformat": 4,
 "nbformat_minor": 2
}
