{
 "cells": [
  {
   "cell_type": "markdown",
   "metadata": {},
   "source": [
    "## Implement a function which takes as input a string and returns true if string is a palindromic string."
   ]
  },
  {
   "cell_type": "code",
   "execution_count": 18,
   "metadata": {},
   "outputs": [],
   "source": [
    "def my_solution(s: str) -> bool:\n",
    "    forward_idx = 0\n",
    "    backward_idx = len(s) - 1\n",
    "\n",
    "    while forward_idx < backward_idx:\n",
    "        if s[forward_idx] == s[backward_idx]:\n",
    "            forward_idx += 1\n",
    "            backward_idx -= 1\n",
    "        else:\n",
    "            return False\n",
    "        print(forward_idx, backward_idx)\n",
    "    \n",
    "    return True"
   ]
  },
  {
   "cell_type": "code",
   "execution_count": 19,
   "metadata": {},
   "outputs": [],
   "source": [
    "s1 = \"The quick brown fox\"\n",
    "s2 = \"racecar\""
   ]
  },
  {
   "cell_type": "code",
   "execution_count": 20,
   "metadata": {},
   "outputs": [
    {
     "data": {
      "text/plain": [
       "False"
      ]
     },
     "execution_count": 20,
     "metadata": {},
     "output_type": "execute_result"
    }
   ],
   "source": [
    "my_solution(s1)"
   ]
  },
  {
   "cell_type": "code",
   "execution_count": 21,
   "metadata": {},
   "outputs": [
    {
     "name": "stdout",
     "output_type": "stream",
     "text": [
      "1 5\n",
      "2 4\n",
      "3 3\n"
     ]
    },
    {
     "data": {
      "text/plain": [
       "True"
      ]
     },
     "execution_count": 21,
     "metadata": {},
     "output_type": "execute_result"
    }
   ],
   "source": [
    "my_solution(s2)"
   ]
  },
  {
   "cell_type": "code",
   "execution_count": 22,
   "metadata": {},
   "outputs": [],
   "source": [
    "def is_string_palindromic_punctuation(s: str) -> bool:\n",
    "    \n",
    "    # Forward index\n",
    "    i = 0\n",
    "\n",
    "    # Backward index\n",
    "    j = len(s)-1\n",
    "\n",
    "    # Loop until i and j collide\n",
    "    while i < j:\n",
    "\n",
    "        ## Skip nonalphanumeric characters going forward and backward\n",
    "        while not s[i].isalnum() and i < j:\n",
    "            i += 1\n",
    "        while not s[j].isalnum() and i < j:\n",
    "            j -= 1\n",
    "        \n",
    "        ## Compare lower cases \n",
    "        if s[i].lower() != s[j].lower():\n",
    "            \n",
    "            ## If not equal, return false\n",
    "            return False\n",
    "        \n",
    "        ## Increment forward index\n",
    "        i += 1\n",
    "\n",
    "        ## Decrement backward index\n",
    "        j -= 1\n",
    "\n",
    "    return True"
   ]
  },
  {
   "cell_type": "code",
   "execution_count": 23,
   "metadata": {},
   "outputs": [],
   "source": [
    "def is_palindrom_pythonic(s: str) -> bool:\n",
    "    \n",
    "    # all returns True if all conditions are True, else False\n",
    "    return all(\n",
    "        a == b \n",
    "\n",
    "        # zip -> pairs normal s and reversed s after lowering and filtering out nonalphanumeric\n",
    "        for a, b in zip(\n",
    "                # maps str.lower() after filtering out non alphanumeric\n",
    "                map(str.lower, filter(str.isalnum, s)),\n",
    "                # maps str.lower() after filtering out non alphanumeric going in reverse\n",
    "                map(str.lower, filter(str.isalnum, reversed(s)))\n",
    "            )\n",
    "    )"
   ]
  },
  {
   "cell_type": "code",
   "execution_count": null,
   "metadata": {},
   "outputs": [],
   "source": []
  }
 ],
 "metadata": {
  "kernelspec": {
   "display_name": "Python 3.10.6 64-bit",
   "language": "python",
   "name": "python3"
  },
  "language_info": {
   "codemirror_mode": {
    "name": "ipython",
    "version": 3
   },
   "file_extension": ".py",
   "mimetype": "text/x-python",
   "name": "python",
   "nbconvert_exporter": "python",
   "pygments_lexer": "ipython3",
   "version": "3.10.6"
  },
  "orig_nbformat": 4,
  "vscode": {
   "interpreter": {
    "hash": "aee8b7b246df8f9039afb4144a1f6fd8d2ca17a180786b69acc140d282b71a49"
   }
  }
 },
 "nbformat": 4,
 "nbformat_minor": 2
}
