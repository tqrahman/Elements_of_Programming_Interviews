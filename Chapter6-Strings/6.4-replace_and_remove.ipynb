{
 "cells": [
  {
   "cell_type": "markdown",
   "metadata": {},
   "source": [
    "Write a program which takes as input an array of characters, and removes each 'b' and replaces each 'a' by two 'd's."
   ]
  },
  {
   "cell_type": "code",
   "execution_count": 3,
   "metadata": {},
   "outputs": [],
   "source": [
    "def my_solution(arr: list[str]) -> list[str]:\n",
    "    result = []\n",
    "    for s in arr:\n",
    "        if s == 'a':\n",
    "            result.extend(['d','d'])\n",
    "        elif s == 'b':\n",
    "            continue\n",
    "        else:\n",
    "            result.append(s)\n",
    "    return result"
   ]
  },
  {
   "cell_type": "code",
   "execution_count": 5,
   "metadata": {},
   "outputs": [
    {
     "data": {
      "text/plain": [
       "['d', 'd', 'c', 'd']"
      ]
     },
     "execution_count": 5,
     "metadata": {},
     "output_type": "execute_result"
    }
   ],
   "source": [
    "arr = ['a', 'b', 'c', 'b', 'b', 'd']\n",
    "my_solution(arr)"
   ]
  },
  {
   "cell_type": "code",
   "execution_count": 6,
   "metadata": {},
   "outputs": [],
   "source": [
    "def replace_and_remove(size: int, s: list[str]) -> int:\n",
    "\n",
    "    # Forward interation: remove 'b's and count the number of 'a's\n",
    "    \n",
    "    ## Initiate indices\n",
    "    write_idx, a_count = 0, 0\n",
    "    \n",
    "    ## Looping through array using index\n",
    "    for i in range(size):\n",
    "        \n",
    "        ### Check if value is 'b'\n",
    "        if s[i] != 'b':\n",
    "            \n",
    "            ### If value is NOT 'b' replace it with current value\n",
    "            s[write_idx] = s[i]\n",
    "\n",
    "            ### Increment write_idx\n",
    "            write_idx += 1\n",
    "        \n",
    "        ### If value is 'a' increase the counter\n",
    "        if s[i] == 'a':\n",
    "            a_count += 1\n",
    "    \n",
    "    # Backward iteration: replace 'a's with 'dd's starting from the end\n",
    "    \n",
    "    # The current index that the forward iteration left off with (last index after \"removing\" b's) \n",
    "    current_idx = write_idx - 1\n",
    "\n",
    "    # The index where the array will be after replacing 'a' with 'dd's\n",
    "    write_idx += a_count - 1\n",
    "    \n",
    "    # The final size of array after removing 'b's and replacing 'a's with 'dd's\n",
    "    final_size = write_idx + 1\n",
    "\n",
    "    # Looping through starting from current_idx\n",
    "    while current_idx >= 0:\n",
    "\n",
    "        ## If value is 'a'\n",
    "        if s[current_idx] == 'a':\n",
    "            # Replace the 'a' with 'd' and the value to the left with 'd'\n",
    "            s[write_idx-1:write_idx+1] = 'dd'\n",
    "            \n",
    "            # Decrease the write_idx by 2\n",
    "            write_idx -= 2\n",
    "        \n",
    "        ## If it is not 'a'\n",
    "        else:\n",
    "            ## Replace the current value with the value to the left\n",
    "            s[write_idx] = s[current_idx]\n",
    "\n",
    "            ## Decrease the write_idx by 1\n",
    "            write_idx -= 1\n",
    "\n",
    "        current_idx -= 1\n",
    "    \n",
    "    return final_size\n"
   ]
  },
  {
   "cell_type": "code",
   "execution_count": 8,
   "metadata": {},
   "outputs": [
    {
     "data": {
      "text/plain": [
       "4"
      ]
     },
     "execution_count": 8,
     "metadata": {},
     "output_type": "execute_result"
    }
   ],
   "source": [
    "replace_and_remove(len(arr), arr)"
   ]
  },
  {
   "cell_type": "code",
   "execution_count": null,
   "metadata": {},
   "outputs": [],
   "source": []
  }
 ],
 "metadata": {
  "kernelspec": {
   "display_name": "Python 3.10.6 64-bit",
   "language": "python",
   "name": "python3"
  },
  "language_info": {
   "codemirror_mode": {
    "name": "ipython",
    "version": 3
   },
   "file_extension": ".py",
   "mimetype": "text/x-python",
   "name": "python",
   "nbconvert_exporter": "python",
   "pygments_lexer": "ipython3",
   "version": "3.10.6"
  },
  "orig_nbformat": 4,
  "vscode": {
   "interpreter": {
    "hash": "aee8b7b246df8f9039afb4144a1f6fd8d2ca17a180786b69acc140d282b71a49"
   }
  }
 },
 "nbformat": 4,
 "nbformat_minor": 2
}
