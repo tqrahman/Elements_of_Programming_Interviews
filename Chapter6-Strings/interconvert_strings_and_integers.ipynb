{
 "cells": [
  {
   "cell_type": "markdown",
   "metadata": {},
   "source": [
    "# 6.1 Interconvert Strings and Integers\n",
    "Implement an integer to string conversion function, and a string to integer conversion function without using library functions like \"int\" in Python. "
   ]
  },
  {
   "cell_type": "code",
   "execution_count": 16,
   "metadata": {},
   "outputs": [],
   "source": [
    "def int_to_string(x: int) -> str:\n",
    "    \n",
    "    # Creating a flag to to see if x is negative\n",
    "    is_negative = False\n",
    "\n",
    "    # Checking to see if integer is negative\n",
    "    if x < 0:\n",
    "\n",
    "        # If x is negative, negate the negative and switch the is_negative flag\n",
    "        x, is_negative = -x, True\n",
    "    \n",
    "    s = []\n",
    "    while True:\n",
    "        '''\n",
    "        Individually add char(integers) in s. \n",
    "            First need to get the number in the ones place by % 10.\n",
    "            Second we move over to the next place by removing the onces place by x //= 10\n",
    "            We loop through this process until we hit x = 0\n",
    "        s will be in reversed order.\n",
    "        '''\n",
    "        \n",
    "        # chr(): function returns the character that represents the specified unicode\n",
    "        # ord(): function returns the number representing the unicode code of a specified character\n",
    "        s.append(chr(ord('0') + x % 10))\n",
    "        \n",
    "        # Shift over to the next place by removing the current place\n",
    "        x //= 10\n",
    "\n",
    "        # Check to see if x == 0\n",
    "        if x == 0:\n",
    "            break\n",
    "    \n",
    "    # Reverse s\n",
    "    s = ''.join(reversed(s)) \n",
    "    \n",
    "    # Adding back negative if is_negative\n",
    "    s = ('-' if is_negative else '') + s\n",
    "    \n",
    "    return s"
   ]
  },
  {
   "cell_type": "code",
   "execution_count": 19,
   "metadata": {},
   "outputs": [
    {
     "data": {
      "text/plain": [
       "'-10045'"
      ]
     },
     "execution_count": 19,
     "metadata": {},
     "output_type": "execute_result"
    }
   ],
   "source": [
    "int_to_string(-10045)"
   ]
  },
  {
   "cell_type": "code",
   "execution_count": 15,
   "metadata": {},
   "outputs": [
    {
     "name": "stdout",
     "output_type": "stream",
     "text": [
      "502\n",
      "This is x: 50\n",
      "This is s: ['2']\n",
      "-----------------\n",
      "50\n",
      "This is x: 5\n",
      "This is s: ['2', '0']\n",
      "-----------------\n",
      "5\n",
      "This is x: 0\n",
      "This is s: ['2', '0', '5']\n",
      "-----------------\n",
      "['2', '0', '5']\n"
     ]
    }
   ],
   "source": [
    "s = []\n",
    "x = 502\n",
    "while True:\n",
    "    print(x)\n",
    "    # Append the character type of remainder of x/10 into s\n",
    "    s.append(chr(ord('0') + x % 10))\n",
    "    # Decrease to the next place\n",
    "    x //= 10\n",
    "    print(f\"This is x: {x}\")\n",
    "    print(f\"This is s: {s}\")\n",
    "    print(\"-----------------\")\n",
    "    if x == 0:\n",
    "        break\n",
    "print(s)"
   ]
  }
 ],
 "metadata": {
  "kernelspec": {
   "display_name": "Python 3.10.6 64-bit",
   "language": "python",
   "name": "python3"
  },
  "language_info": {
   "codemirror_mode": {
    "name": "ipython",
    "version": 3
   },
   "file_extension": ".py",
   "mimetype": "text/x-python",
   "name": "python",
   "nbconvert_exporter": "python",
   "pygments_lexer": "ipython3",
   "version": "3.10.6"
  },
  "orig_nbformat": 4,
  "vscode": {
   "interpreter": {
    "hash": "aee8b7b246df8f9039afb4144a1f6fd8d2ca17a180786b69acc140d282b71a49"
   }
  }
 },
 "nbformat": 4,
 "nbformat_minor": 2
}
