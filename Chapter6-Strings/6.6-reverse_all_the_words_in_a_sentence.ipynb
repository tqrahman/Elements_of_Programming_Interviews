{
 "cells": [
  {
   "cell_type": "markdown",
   "metadata": {},
   "source": [
    "# Reverse All the Words in a Sentence\n",
    "Given a string containing a set of words separated by whitespace, we would like to transform it to a string in which the words appear in reverse order. "
   ]
  },
  {
   "cell_type": "code",
   "execution_count": 16,
   "metadata": {},
   "outputs": [],
   "source": [
    "def my_solution(s: str) -> str:\n",
    "    sentence_as_list = s.split(\" \")\n",
    "    return \" \".join(sentence_as_list[::-1])"
   ]
  },
  {
   "cell_type": "code",
   "execution_count": 17,
   "metadata": {},
   "outputs": [
    {
     "data": {
      "text/plain": [
       "'Bob likes Alice'"
      ]
     },
     "execution_count": 17,
     "metadata": {},
     "output_type": "execute_result"
    }
   ],
   "source": [
    "s = \"Alice likes Bob\"\n",
    "my_solution(s)"
   ]
  },
  {
   "cell_type": "code",
   "execution_count": null,
   "metadata": {},
   "outputs": [],
   "source": [
    "def reverse_words(s: str):\n",
    "    \n",
    "    # Function that reverses a list\n",
    "    def reverse_range(s: str, start: int, finish: int):\n",
    "        while start < finish:\n",
    "            s[start], s[finish] = s[finish], s[start]\n",
    "            start, finish = start + 1, finish - 1\n",
    "    \n",
    "    # Reverses the list\n",
    "    reverse_range(s, 0, len(s)-1)\n",
    "\n",
    "    start = 0\n",
    "\n",
    "    # Loop through until we reach the end of the string\n",
    "    while True:\n",
    "\n",
    "        finish = start\n",
    "        \n",
    "        # Count how many characters in the string excluding ' '\n",
    "        while finish < len(s) and s[finish] != ' ':\n",
    "            finish += 1\n",
    "        if finish == len(s):\n",
    "            break\n",
    "\n",
    "        # Reverses each word in the string\n",
    "        reverse_range(s, start, finish-1)\n",
    "        start = finish + 1\n",
    "    \n",
    "    # Reverses the last word\n",
    "    reverse_range(s, start, len(s)-1)"
   ]
  },
  {
   "cell_type": "code",
   "execution_count": 10,
   "metadata": {},
   "outputs": [],
   "source": [
    "def reverse_range(s: str, start: int, finish: int):\n",
    "    while start < finish:\n",
    "        # print(start, finish)\n",
    "        # print(s[start], s[finish])\n",
    "        s[start], s[finish] = s[finish], s[start]\n",
    "        start, finish = start + 1, finish - 1\n",
    "    return s"
   ]
  },
  {
   "cell_type": "code",
   "execution_count": 15,
   "metadata": {},
   "outputs": [
    {
     "name": "stdout",
     "output_type": "stream",
     "text": [
      "0 2\n",
      "Alice Bob\n"
     ]
    },
    {
     "data": {
      "text/plain": [
       "['Bob', 'likes', 'Alice']"
      ]
     },
     "execution_count": 15,
     "metadata": {},
     "output_type": "execute_result"
    }
   ],
   "source": [
    "finish = len(s) - 1\n",
    "sentence = s.split()\n",
    "# print(sentence) \n",
    "reverse_range(sentence, 0, 2)"
   ]
  },
  {
   "cell_type": "code",
   "execution_count": null,
   "metadata": {},
   "outputs": [],
   "source": []
  }
 ],
 "metadata": {
  "kernelspec": {
   "display_name": "Python 3.10.6 64-bit",
   "language": "python",
   "name": "python3"
  },
  "language_info": {
   "codemirror_mode": {
    "name": "ipython",
    "version": 3
   },
   "file_extension": ".py",
   "mimetype": "text/x-python",
   "name": "python",
   "nbconvert_exporter": "python",
   "pygments_lexer": "ipython3",
   "version": "3.10.6"
  },
  "orig_nbformat": 4,
  "vscode": {
   "interpreter": {
    "hash": "aee8b7b246df8f9039afb4144a1f6fd8d2ca17a180786b69acc140d282b71a49"
   }
  }
 },
 "nbformat": 4,
 "nbformat_minor": 2
}
