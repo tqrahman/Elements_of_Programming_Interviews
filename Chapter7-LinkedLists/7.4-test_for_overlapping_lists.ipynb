{
 "cells": [
  {
   "cell_type": "markdown",
   "metadata": {},
   "source": [
    "### Write a program that takes two cycle-free singly linked lists, and determines if there exists a node that is common to both lists"
   ]
  },
  {
   "cell_type": "code",
   "execution_count": 1,
   "metadata": {},
   "outputs": [],
   "source": [
    "from typing import Optional\n",
    "\n",
    "class ListNode:\n",
    "    def __init__(self, val=0, next=None):\n",
    "        self.val = val\n",
    "        self.next = next"
   ]
  },
  {
   "cell_type": "code",
   "execution_count": null,
   "metadata": {},
   "outputs": [],
   "source": [
    "\n",
    "def overlapping_no_cycle_lists(l0: ListNode, l1: ListNode) -> ListNode:\n",
    "    \n",
    "    # Function to get length of Linked List\n",
    "    def length(L):\n",
    "        length = 0\n",
    "        while L:\n",
    "            length += 1\n",
    "            L = L.next\n",
    "        return length\n",
    "    \n",
    "    # Getting length of lists\n",
    "    l0_len, l1_len = length(l0), length(l1)\n",
    "\n",
    "    # Do a switcharoo if length of l0 is greater\n",
    "    if l0_len > l1_len:\n",
    "        l0, l1 = l1, l0\n",
    "\n",
    "    # \n",
    "    for _ in range(abs(l0_len - l1_len)):\n",
    "        l1 = l1.next\n",
    "    \n",
    "    while l0 and l1 and l0 is not l1:\n",
    "        l0, l1 = l0.next, l1.next\n",
    "    \n",
    "    return l0\n"
   ]
  }
 ],
 "metadata": {
  "kernelspec": {
   "display_name": "Python 3.10.6 64-bit",
   "language": "python",
   "name": "python3"
  },
  "language_info": {
   "codemirror_mode": {
    "name": "ipython",
    "version": 3
   },
   "file_extension": ".py",
   "mimetype": "text/x-python",
   "name": "python",
   "nbconvert_exporter": "python",
   "pygments_lexer": "ipython3",
   "version": "3.10.6"
  },
  "orig_nbformat": 4,
  "vscode": {
   "interpreter": {
    "hash": "aee8b7b246df8f9039afb4144a1f6fd8d2ca17a180786b69acc140d282b71a49"
   }
  }
 },
 "nbformat": 4,
 "nbformat_minor": 2
}
