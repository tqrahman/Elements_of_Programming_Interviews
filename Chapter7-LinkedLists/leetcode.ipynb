{
 "cells": [
  {
   "cell_type": "markdown",
   "metadata": {},
   "source": [
    "### Given head, the head of a linked list, determine if the linked list has a cycle in it."
   ]
  },
  {
   "cell_type": "code",
   "execution_count": 1,
   "metadata": {},
   "outputs": [],
   "source": [
    "from typing import Optional\n",
    "\n",
    "class ListNode:\n",
    "    def __init__(self, val=0, next=None):\n",
    "        self.val = val\n",
    "        self.next = next"
   ]
  },
  {
   "cell_type": "code",
   "execution_count": 2,
   "metadata": {},
   "outputs": [],
   "source": [
    "def has_cycle(head: Optional[ListNode]) -> bool:\n",
    "\n",
    "    # Create a slow pointer (iterates one at a time)\n",
    "    slow = head\n",
    "\n",
    "    # Create a fast pointer (iterates by 2)\n",
    "    fast = head\n",
    "\n",
    "    # While fast pointer is NOT null and fast.next exists\n",
    "    while fast and fast.next:\n",
    "        \n",
    "        # Transverse slow by one\n",
    "        slow = slow.next\n",
    "\n",
    "        # Transverse fast by two\n",
    "        fast = fast.next.next\n",
    "\n",
    "        # If slow and fast are the same\n",
    "        if slow == fast:\n",
    "            \n",
    "            # Cycle exists\n",
    "            return True\n",
    "    \n",
    "    return False\n"
   ]
  },
  {
   "cell_type": "code",
   "execution_count": null,
   "metadata": {},
   "outputs": [],
   "source": []
  }
 ],
 "metadata": {
  "kernelspec": {
   "display_name": "Python 3.10.6 64-bit",
   "language": "python",
   "name": "python3"
  },
  "language_info": {
   "codemirror_mode": {
    "name": "ipython",
    "version": 3
   },
   "file_extension": ".py",
   "mimetype": "text/x-python",
   "name": "python",
   "nbconvert_exporter": "python",
   "pygments_lexer": "ipython3",
   "version": "3.10.6"
  },
  "orig_nbformat": 4,
  "vscode": {
   "interpreter": {
    "hash": "aee8b7b246df8f9039afb4144a1f6fd8d2ca17a180786b69acc140d282b71a49"
   }
  }
 },
 "nbformat": 4,
 "nbformat_minor": 2
}
