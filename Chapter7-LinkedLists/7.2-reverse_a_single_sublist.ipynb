{
 "cells": [
  {
   "cell_type": "markdown",
   "metadata": {},
   "source": [
    "Write a program which takes a singly linked list L and two integers s and f as arguements, and reverses the order of the nodes from the sth node to fth node, inclusive. "
   ]
  },
  {
   "cell_type": "code",
   "execution_count": 1,
   "metadata": {},
   "outputs": [],
   "source": [
    "from typing import Optional\n",
    "\n",
    "class ListNode:\n",
    "    def __init__(self, val=0, next=None):\n",
    "        self.val = val\n",
    "        self.next = next"
   ]
  },
  {
   "cell_type": "code",
   "execution_count": null,
   "metadata": {},
   "outputs": [],
   "source": [
    "def reverse_sublist(L: ListNode, start: int, finish: int) -> Optional[ListNode]:\n",
    "    dummy_head = sublist_head = ListNode(0, L)\n",
    "\n",
    "    # Transverses through dummy_head until it reaches 'start'\n",
    "    for _ in range(1, start):\n",
    "        sublist_head = sublist_head.next\n",
    "\n",
    "    # Creating another pointer starting from 'start'\n",
    "    sublist_iter = sublist_head.next\n",
    "\n",
    "    # Loop from 'start' to 'finish'\n",
    "    for _ in range(finish - start):\n",
    "\n",
    "        # Go to next node starting from 'start'\n",
    "        temp = sublist_iter.next\n",
    "\n",
    "        # \n",
    "        sublist_iter.next, temp.next, sublist_head.next = (temp.next, sublist_head.next, temp)\n",
    "\n",
    "    return dummy_head.next\n",
    "    "
   ]
  }
 ],
 "metadata": {
  "kernelspec": {
   "display_name": "Python 3.10.6 64-bit",
   "language": "python",
   "name": "python3"
  },
  "language_info": {
   "codemirror_mode": {
    "name": "ipython",
    "version": 3
   },
   "file_extension": ".py",
   "mimetype": "text/x-python",
   "name": "python",
   "nbconvert_exporter": "python",
   "pygments_lexer": "ipython3",
   "version": "3.10.6"
  },
  "orig_nbformat": 4,
  "vscode": {
   "interpreter": {
    "hash": "aee8b7b246df8f9039afb4144a1f6fd8d2ca17a180786b69acc140d282b71a49"
   }
  }
 },
 "nbformat": 4,
 "nbformat_minor": 2
}
