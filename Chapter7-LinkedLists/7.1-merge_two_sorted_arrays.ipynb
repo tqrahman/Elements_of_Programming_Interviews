{
 "cells": [
  {
   "cell_type": "markdown",
   "metadata": {},
   "source": [
    "Write a program that takes two lists, assumed to be sorted, and returns their merge. The only two field your program can change in a node is its next field"
   ]
  },
  {
   "cell_type": "code",
   "execution_count": 38,
   "metadata": {},
   "outputs": [],
   "source": [
    "from typing import Optional\n",
    "\n",
    "class ListNode:\n",
    "    def __init__(self, val=0, next=None):\n",
    "        self.val = val\n",
    "        self.next = next\n",
    "    \n",
    "    def print_node(self):\n",
    "      print(f\"val: {self.val}, next: {self.next.val}\")\n",
    "\n",
    "class SLinkedList:\n",
    "    def __init__(self):\n",
    "      self.headval = None\n",
    "\n",
    "    def listprint(self):\n",
    "      printval = self.headval\n",
    "      while printval is not None:\n",
    "         print(printval.val)\n",
    "         printval = printval.next"
   ]
  },
  {
   "cell_type": "code",
   "execution_count": 39,
   "metadata": {},
   "outputs": [],
   "source": [
    "list1 = SLinkedList()\n",
    "list1.headval = ListNode(1)\n",
    "e2 = ListNode(3)\n",
    "e3 = ListNode(5)\n",
    "e4 = ListNode(7)\n",
    "\n",
    "list1.headval.next = e2\n",
    "e2.next = e3\n",
    "e3.next = e4"
   ]
  },
  {
   "cell_type": "code",
   "execution_count": 40,
   "metadata": {},
   "outputs": [],
   "source": [
    "list2 = SLinkedList()\n",
    "list2.headval = ListNode(2)\n",
    "e2 = ListNode(4)\n",
    "e3 = ListNode(8)\n",
    "\n",
    "list2.headval.next = e2\n",
    "e2.next = e3"
   ]
  },
  {
   "cell_type": "code",
   "execution_count": 41,
   "metadata": {},
   "outputs": [
    {
     "name": "stdout",
     "output_type": "stream",
     "text": [
      "2\n",
      "4\n",
      "8\n"
     ]
    }
   ],
   "source": [
    "list2.listprint()"
   ]
  },
  {
   "cell_type": "code",
   "execution_count": 42,
   "metadata": {},
   "outputs": [],
   "source": [
    "# def my_solution(l1: Optional[ListNode], l2: Optional[ListNode]) -> Optional[ListNode]:\n",
    "#     while l1.next != None:\n",
    "#         # if l1.val < l2.val \n",
    "#         while l1.val < :\n",
    "#             while l1.val"
   ]
  },
  {
   "cell_type": "code",
   "execution_count": 46,
   "metadata": {},
   "outputs": [],
   "source": [
    "def merged_two_sorted_lists(l1: Optional[SLinkedList], l2: Optional[SLinkedList]) -> Optional[SLinkedList]:\n",
    "    \n",
    "    result = tail = ListNode()\n",
    "\n",
    "    while l1 and l2:              # Looping through the both lists until both are None\n",
    "\n",
    "        if l1.val <= l2.val:\n",
    "            tail.next = l1        # the value of tail.next gets l1\n",
    "            l1 = l1.next          # we change to the next node in list\n",
    "        \n",
    "        else:\n",
    "            tail.next = l2        # Set the next tail value as l2\n",
    "            l2 = l2.next          # Change to the next node in l2\n",
    "         \n",
    "        tail = tail.next          # Setting the tail\n",
    "    \n",
    "    tail.next = l1 or l2          # Appends the remaining nodes of l1 or l2\n",
    "\n",
    "    return result.next"
   ]
  },
  {
   "cell_type": "code",
   "execution_count": 47,
   "metadata": {},
   "outputs": [],
   "source": [
    "# list1 = [1,2,4]\n",
    "# list2 = [1,3,4]"
   ]
  },
  {
   "cell_type": "code",
   "execution_count": 48,
   "metadata": {},
   "outputs": [
    {
     "ename": "AttributeError",
     "evalue": "'SLinkedList' object has no attribute 'val'",
     "output_type": "error",
     "traceback": [
      "\u001b[0;31m---------------------------------------------------------------------------\u001b[0m",
      "\u001b[0;31mAttributeError\u001b[0m                            Traceback (most recent call last)",
      "\u001b[1;32m/Users/tqrahman/Desktop/Rahman-University/Algorithms/Elements_of_Programming_Interviews_in_Python/Chapter7-LinkedLists/7.1-merge_two_sorted_arrays.ipynb Cell 9\u001b[0m in \u001b[0;36m<cell line: 1>\u001b[0;34m()\u001b[0m\n\u001b[0;32m----> <a href='vscode-notebook-cell:/Users/tqrahman/Desktop/Rahman-University/Algorithms/Elements_of_Programming_Interviews_in_Python/Chapter7-LinkedLists/7.1-merge_two_sorted_arrays.ipynb#W5sZmlsZQ%3D%3D?line=0'>1</a>\u001b[0m merged_two_sorted_lists(list1, list2)\n",
      "\u001b[1;32m/Users/tqrahman/Desktop/Rahman-University/Algorithms/Elements_of_Programming_Interviews_in_Python/Chapter7-LinkedLists/7.1-merge_two_sorted_arrays.ipynb Cell 9\u001b[0m in \u001b[0;36mmerged_two_sorted_lists\u001b[0;34m(l1, l2)\u001b[0m\n\u001b[1;32m      <a href='vscode-notebook-cell:/Users/tqrahman/Desktop/Rahman-University/Algorithms/Elements_of_Programming_Interviews_in_Python/Chapter7-LinkedLists/7.1-merge_two_sorted_arrays.ipynb#W5sZmlsZQ%3D%3D?line=2'>3</a>\u001b[0m result \u001b[39m=\u001b[39m tail \u001b[39m=\u001b[39m ListNode()\n\u001b[1;32m      <a href='vscode-notebook-cell:/Users/tqrahman/Desktop/Rahman-University/Algorithms/Elements_of_Programming_Interviews_in_Python/Chapter7-LinkedLists/7.1-merge_two_sorted_arrays.ipynb#W5sZmlsZQ%3D%3D?line=4'>5</a>\u001b[0m \u001b[39mwhile\u001b[39;00m l1 \u001b[39mand\u001b[39;00m l2:              \u001b[39m# Looping through the both lists until both are None\u001b[39;00m\n\u001b[0;32m----> <a href='vscode-notebook-cell:/Users/tqrahman/Desktop/Rahman-University/Algorithms/Elements_of_Programming_Interviews_in_Python/Chapter7-LinkedLists/7.1-merge_two_sorted_arrays.ipynb#W5sZmlsZQ%3D%3D?line=6'>7</a>\u001b[0m     \u001b[39mif\u001b[39;00m l1\u001b[39m.\u001b[39;49mval \u001b[39m<\u001b[39m\u001b[39m=\u001b[39m l2\u001b[39m.\u001b[39mval:\n\u001b[1;32m      <a href='vscode-notebook-cell:/Users/tqrahman/Desktop/Rahman-University/Algorithms/Elements_of_Programming_Interviews_in_Python/Chapter7-LinkedLists/7.1-merge_two_sorted_arrays.ipynb#W5sZmlsZQ%3D%3D?line=7'>8</a>\u001b[0m         tail\u001b[39m.\u001b[39mnext \u001b[39m=\u001b[39m l1        \u001b[39m# the value of tail.next gets l1\u001b[39;00m\n\u001b[1;32m      <a href='vscode-notebook-cell:/Users/tqrahman/Desktop/Rahman-University/Algorithms/Elements_of_Programming_Interviews_in_Python/Chapter7-LinkedLists/7.1-merge_two_sorted_arrays.ipynb#W5sZmlsZQ%3D%3D?line=8'>9</a>\u001b[0m         l1 \u001b[39m=\u001b[39m l1\u001b[39m.\u001b[39mnext          \u001b[39m# we change to the next node in list\u001b[39;00m\n",
      "\u001b[0;31mAttributeError\u001b[0m: 'SLinkedList' object has no attribute 'val'"
     ]
    }
   ],
   "source": [
    "merged_two_sorted_lists(list1, list2)"
   ]
  },
  {
   "cell_type": "code",
   "execution_count": null,
   "metadata": {},
   "outputs": [],
   "source": []
  }
 ],
 "metadata": {
  "kernelspec": {
   "display_name": "Python 3.10.6 64-bit",
   "language": "python",
   "name": "python3"
  },
  "language_info": {
   "codemirror_mode": {
    "name": "ipython",
    "version": 3
   },
   "file_extension": ".py",
   "mimetype": "text/x-python",
   "name": "python",
   "nbconvert_exporter": "python",
   "pygments_lexer": "ipython3",
   "version": "3.10.6"
  },
  "orig_nbformat": 4,
  "vscode": {
   "interpreter": {
    "hash": "aee8b7b246df8f9039afb4144a1f6fd8d2ca17a180786b69acc140d282b71a49"
   }
  }
 },
 "nbformat": 4,
 "nbformat_minor": 2
}
