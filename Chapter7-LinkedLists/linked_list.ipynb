{
 "cells": [
  {
   "cell_type": "code",
   "execution_count": 14,
   "metadata": {},
   "outputs": [],
   "source": [
    "class ListNode:\n",
    "    def __init__(self, val=0, next=None):\n",
    "        self.val = val\n",
    "        self.next = next\n",
    "\n",
    "class LinkedList:\n",
    "    def __init__(self):\n",
    "        self.head = ListNode()\n",
    "    \n",
    "    def append(self, data):\n",
    "        \n",
    "        # Create a node from the data\n",
    "        new_node = ListNode(data)\n",
    "        \n",
    "        # Create a pointer starting with head of list\n",
    "        cur = self.head\n",
    "\n",
    "        # Traverse through list until next value of a node is none (aka last node)\n",
    "        while cur.next != None:\n",
    "            \n",
    "            # Move forward to next node\n",
    "            cur = cur.next\n",
    "        \n",
    "        # Set the next value of last node with the new data\n",
    "        cur.next = new_node\n",
    "\n",
    "    def display(self):\n",
    "        values = []\n",
    "        cur = self.head\n",
    "        while cur.next != None:\n",
    "            cur = cur.next\n",
    "            values.append(f\"[val: {cur.val} -> next: {cur.next.val if cur.next else None}]\")\n",
    "        print(values)\n"
   ]
  },
  {
   "cell_type": "code",
   "execution_count": 15,
   "metadata": {},
   "outputs": [
    {
     "name": "stdout",
     "output_type": "stream",
     "text": [
      "[]\n"
     ]
    }
   ],
   "source": [
    "list1 = LinkedList()\n",
    "list1.display()"
   ]
  },
  {
   "cell_type": "code",
   "execution_count": 16,
   "metadata": {},
   "outputs": [
    {
     "name": "stdout",
     "output_type": "stream",
     "text": [
      "['[val: 1 -> next: 3]', '[val: 3 -> next: 5]', '[val: 5 -> next: 7]', '[val: 7 -> next: None]']\n"
     ]
    }
   ],
   "source": [
    "for num in [1, 3, 5, 7]:\n",
    "    list1.append(num)\n",
    "list1.display()"
   ]
  },
  {
   "cell_type": "code",
   "execution_count": 17,
   "metadata": {},
   "outputs": [
    {
     "name": "stdout",
     "output_type": "stream",
     "text": [
      "['[val: 2 -> next: 4]', '[val: 4 -> next: 8]', '[val: 8 -> next: None]']\n"
     ]
    }
   ],
   "source": [
    "list2 = LinkedList()\n",
    "for num in [2, 4, 8]:\n",
    "    list2.append(num)\n",
    "list2.display()"
   ]
  },
  {
   "cell_type": "code",
   "execution_count": null,
   "metadata": {},
   "outputs": [],
   "source": []
  }
 ],
 "metadata": {
  "kernelspec": {
   "display_name": "Python 3.10.6 64-bit",
   "language": "python",
   "name": "python3"
  },
  "language_info": {
   "codemirror_mode": {
    "name": "ipython",
    "version": 3
   },
   "file_extension": ".py",
   "mimetype": "text/x-python",
   "name": "python",
   "nbconvert_exporter": "python",
   "pygments_lexer": "ipython3",
   "version": "3.10.6"
  },
  "orig_nbformat": 4,
  "vscode": {
   "interpreter": {
    "hash": "aee8b7b246df8f9039afb4144a1f6fd8d2ca17a180786b69acc140d282b71a49"
   }
  }
 },
 "nbformat": 4,
 "nbformat_minor": 2
}
