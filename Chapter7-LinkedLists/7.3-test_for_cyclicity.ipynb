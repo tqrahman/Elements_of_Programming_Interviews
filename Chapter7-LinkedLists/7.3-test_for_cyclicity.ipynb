{
 "cells": [
  {
   "cell_type": "markdown",
   "metadata": {},
   "source": [
    "Write a program that takes the head of a singly linked list and returns null if there does not exist a cycle, and the node at the start of the cycle, if cycle is present."
   ]
  },
  {
   "cell_type": "code",
   "execution_count": 2,
   "metadata": {},
   "outputs": [],
   "source": [
    "from typing import Optional\n",
    "\n",
    "class ListNode:\n",
    "    def __init__(self, val=0, next=None):\n",
    "        self.val = val\n",
    "        self.next = next"
   ]
  },
  {
   "cell_type": "code",
   "execution_count": null,
   "metadata": {},
   "outputs": [],
   "source": [
    "def has_cycle(head: ListNode) -> Optional[ListNode]:\n",
    "    \n",
    "    def cycle_len(end):\n",
    "        start, step = end, 0\n",
    "        while True:\n",
    "            step += 1\n",
    "            start = start.next\n",
    "            if start is end:\n",
    "                return step\n",
    "    \n",
    "    fast = slow = head\n",
    "\n",
    "    while fast and fast.next:\n",
    "        slow, fast = slow.next, fast.next.next\n",
    "        if slow is fast:\n",
    "\n",
    "            # Finds the start of cycle\n",
    "            cycle_len_advanced_iter = head\n",
    "            for _ in range(cycle_len(slow)):\n",
    "                cycle_len_advanced_iter = cycle_len_advanced_iter.next\n",
    "            \n",
    "            it = head\n",
    "\n",
    "            # Both iterators advance in tandem\n",
    "            while it is not cycle_len_advanced_iter:\n",
    "                it = it.next\n",
    "                cycle_len_advanced_iter = cycle_len_advanced_iter.next\n",
    "            return it\n",
    "\n",
    "    return None"
   ]
  }
 ],
 "metadata": {
  "kernelspec": {
   "display_name": "Python 3.10.6 64-bit",
   "language": "python",
   "name": "python3"
  },
  "language_info": {
   "codemirror_mode": {
    "name": "ipython",
    "version": 3
   },
   "file_extension": ".py",
   "mimetype": "text/x-python",
   "name": "python",
   "nbconvert_exporter": "python",
   "pygments_lexer": "ipython3",
   "version": "3.10.6"
  },
  "orig_nbformat": 4,
  "vscode": {
   "interpreter": {
    "hash": "aee8b7b246df8f9039afb4144a1f6fd8d2ca17a180786b69acc140d282b71a49"
   }
  }
 },
 "nbformat": 4,
 "nbformat_minor": 2
}
