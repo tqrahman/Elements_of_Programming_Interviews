{
 "cells": [
  {
   "cell_type": "markdown",
   "metadata": {},
   "source": [
    "A type of quicksort solution that reorders the array so that all elements less than the pivot appear first -> elements equal to pivot -> elements greater than pivot. "
   ]
  },
  {
   "cell_type": "code",
   "execution_count": 1,
   "metadata": {},
   "outputs": [],
   "source": [
    "A = [0, 1, 2, 0, 2, 1, 1]"
   ]
  },
  {
   "cell_type": "code",
   "execution_count": null,
   "metadata": {},
   "outputs": [],
   "source": [
    "# First implementation\n",
    "'''\n",
    "Time complexity is O(n^2)\n",
    "    * there is a nested for loop\n",
    "Space complexity is O(1)\n",
    "'''\n",
    "\n",
    "def dutch_flag_partition(pivot_index: int, A: list[int]) -> None:\n",
    "    \n",
    "    # Get the value of the pivot_index\n",
    "    pivot = A[pivot_index]\n",
    "\n",
    "    # First pass that groups values smaller than pivot\n",
    "    \n",
    "    # Looping through A\n",
    "    for i in range(len(A)):\n",
    "        # print(f\"Starting Array: {A}\")\n",
    "        # print(f\"Index i: {i}\")\n",
    "        \n",
    "        # Looping through next index to A\n",
    "        for j in range(i+1, len(A)):\n",
    "            # print(f\"Index j: {j}\")\n",
    "            # If value is less than pivot\n",
    "            if A[j] < pivot:\n",
    "                \n",
    "                # Switch values\n",
    "                A[i], A[j] = A[j], A[i]\n",
    "                # print(f\"Ending Array: {A}\")\n",
    "                # print(\"------------------\")\n",
    "                break\n",
    "    \n",
    "    # Second pass that groups values bigger than pivot\n",
    "    \n",
    "    # Looping through A in reverse\n",
    "    for i in reversed(range(len(A))):\n",
    "        \n",
    "        # print(f\"Starting Array: {A}\")\n",
    "        # print(f\"Index i: {i}\")\n",
    "        \n",
    "        # Looping through current index to beginning\n",
    "        for j in reversed(range(i)):\n",
    "            \n",
    "            # print(f\"Index j: {j}\")\n",
    "\n",
    "            # If value is greater than pivot\n",
    "            if A[j] > pivot:\n",
    "\n",
    "                # Switch values\n",
    "                A[i], A[j] = A[j], A[i]\n",
    "                # print(f\"Ending Array: {A}\")\n",
    "                # print(\"------------------\")\n",
    "                break"
   ]
  }
 ],
 "metadata": {
  "kernelspec": {
   "display_name": "Python 3.10.6 64-bit ('face')",
   "language": "python",
   "name": "python3"
  },
  "language_info": {
   "codemirror_mode": {
    "name": "ipython",
    "version": 3
   },
   "file_extension": ".py",
   "mimetype": "text/x-python",
   "name": "python",
   "nbconvert_exporter": "python",
   "pygments_lexer": "ipython3",
   "version": "3.10.6"
  },
  "orig_nbformat": 4,
  "vscode": {
   "interpreter": {
    "hash": "26bd1bd96d331ef4d433533c6ec860e1c9ded637d71ec87163fc1b6e8094879d"
   }
  }
 },
 "nbformat": 4,
 "nbformat_minor": 2
}
