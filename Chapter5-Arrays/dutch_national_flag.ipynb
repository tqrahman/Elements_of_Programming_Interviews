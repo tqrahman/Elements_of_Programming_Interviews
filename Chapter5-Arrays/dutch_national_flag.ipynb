{
 "cells": [
  {
   "cell_type": "markdown",
   "metadata": {},
   "source": [
    "A type of quicksort solution that reorders the array so that all elements less than the pivot appear first -> elements equal to pivot -> elements greater than pivot. "
   ]
  },
  {
   "cell_type": "code",
   "execution_count": 1,
   "metadata": {},
   "outputs": [],
   "source": [
    "A = [0, 1, 2, 0, 2, 1, 1]"
   ]
  },
  {
   "cell_type": "code",
   "execution_count": 2,
   "metadata": {},
   "outputs": [],
   "source": [
    "# First implementation\n",
    "'''\n",
    "Time complexity is O(n^2)\n",
    "    * there is a nested for loop\n",
    "Space complexity is O(1)\n",
    "'''\n",
    "\n",
    "def dutch_flag_partition(pivot_index: int, A: list[int]) -> None:\n",
    "    \n",
    "    # Get the value of the pivot_index\n",
    "    pivot = A[pivot_index]\n",
    "\n",
    "    # First pass that groups values smaller than pivot\n",
    "    \n",
    "    # Looping through A\n",
    "    for i in range(len(A)):\n",
    "        # print(f\"Starting Array: {A}\")\n",
    "        # print(f\"Index i: {i}\")\n",
    "        \n",
    "        # Looping through next index to A\n",
    "        for j in range(i+1, len(A)):\n",
    "            # print(f\"Index j: {j}\")\n",
    "            # If value is less than pivot\n",
    "            if A[j] < pivot:\n",
    "                \n",
    "                # Switch values\n",
    "                A[i], A[j] = A[j], A[i]\n",
    "                # print(f\"Ending Array: {A}\")\n",
    "                # print(\"------------------\")\n",
    "                break\n",
    "    \n",
    "    # Second pass that groups values bigger than pivot\n",
    "    \n",
    "    # Looping through A in reverse\n",
    "    for i in reversed(range(len(A))):\n",
    "        \n",
    "        # print(f\"Starting Array: {A}\")\n",
    "        # print(f\"Index i: {i}\")\n",
    "        \n",
    "        # Looping through current index to beginning\n",
    "        for j in reversed(range(i)):\n",
    "            \n",
    "            # print(f\"Index j: {j}\")\n",
    "\n",
    "            # If value is greater than pivot\n",
    "            if A[j] > pivot:\n",
    "\n",
    "                # Switch values\n",
    "                A[i], A[j] = A[j], A[i]\n",
    "                # print(f\"Ending Array: {A}\")\n",
    "                # print(\"------------------\")\n",
    "                break"
   ]
  },
  {
   "cell_type": "code",
   "execution_count": 3,
   "metadata": {},
   "outputs": [],
   "source": [
    "dutch_flag_partition(3, A)"
   ]
  },
  {
   "cell_type": "code",
   "execution_count": 4,
   "metadata": {},
   "outputs": [],
   "source": [
    "# Second Implementation\n",
    "'''\n",
    "Time complexity is O(n)\n",
    "    * removed the nested for loop and used an index counter\n",
    "Space complexity is O(1)\n",
    "'''\n",
    "\n",
    "def dutch_flag_partition2(pivot_index: int, A: list[int]) -> None:\n",
    "    \n",
    "    # Getting value given the index of array\n",
    "    pivot = A[pivot_index]\n",
    "\n",
    "    # First pass to order smaller values\n",
    "\n",
    "    # Setting the index of smaller value\n",
    "    smaller = 0\n",
    "\n",
    "    # Looping through A\n",
    "    for i in range(len(A)):\n",
    "        \n",
    "        # If value of index is less than pivot\n",
    "        if A[i] < pivot:\n",
    "\n",
    "            # Switch values of the smaller value with the higher one \n",
    "            A[i], A[smaller] = A[smaller], A[i]\n",
    "            \n",
    "            # Go to the next index\n",
    "            smaller += 1\n",
    "    \n",
    "    # Second pass to order the larger value\n",
    "\n",
    "    # Setting index of the larger value\n",
    "    larger = len(A) - 1\n",
    "\n",
    "    # Loop through A in reverse\n",
    "    for i in reversed(range(len(A))):\n",
    "        \n",
    "        # If value is greater than pivot\n",
    "        if A[i] > pivot:\n",
    "\n",
    "            # Switch the values of the larger value and the index value\n",
    "            A[i], A[larger] = A[larger], A[i]\n",
    "            \n",
    "            # Go to the next index\n",
    "            larger -= 1"
   ]
  },
  {
   "cell_type": "code",
   "execution_count": 5,
   "metadata": {},
   "outputs": [],
   "source": [
    "'''\n",
    "Each iteration decreases the size of the unknown class of a number (higher, lower, or \n",
    "equal to the pivot) by 1. The time spent within each iteration is O(1), therefore the \n",
    "time complexity is O(n)\n",
    "'''\n",
    "\n",
    "def dutch_flag_partition3(pivot_index: int, A: list[int]) -> None:\n",
    "\n",
    "    # Getting value of pivot index\n",
    "    pivot = A[pivot_index]\n",
    "\n",
    "    # Setting the index of the smaller, equal, larger\n",
    "    smaller, equal, larger = 0, 0, len(A)\n",
    "\n",
    "    # Keep looping until equal >= larger\n",
    "    while equal < larger:\n",
    "        \n",
    "        # Check to see if A[equal] is less than pivot\n",
    "        if A[equal] < pivot:\n",
    "\n",
    "            # If equal value is less than pivot, switch smaller value with equal value\n",
    "            A[smaller], A[equal] = A[equal], A[smaller]\n",
    "\n",
    "            # Increase the index of smaller and equal\n",
    "            smaller, equal = smaller + 1, equal + 1\n",
    "        \n",
    "        elif A[equal] == pivot:\n",
    "            equal += 1\n",
    "        else:\n",
    "            larger -= 1\n",
    "            A[equal], A[larger] = A[larger], A[equal]"
   ]
  },
  {
   "cell_type": "code",
   "execution_count": null,
   "metadata": {},
   "outputs": [],
   "source": []
  }
 ],
 "metadata": {
  "kernelspec": {
   "display_name": "Python 3.10.6 64-bit ('face')",
   "language": "python",
   "name": "python3"
  },
  "language_info": {
   "codemirror_mode": {
    "name": "ipython",
    "version": 3
   },
   "file_extension": ".py",
   "mimetype": "text/x-python",
   "name": "python",
   "nbconvert_exporter": "python",
   "pygments_lexer": "ipython3",
   "version": "3.10.6"
  },
  "orig_nbformat": 4,
  "vscode": {
   "interpreter": {
    "hash": "26bd1bd96d331ef4d433533c6ec860e1c9ded637d71ec87163fc1b6e8094879d"
   }
  }
 },
 "nbformat": 4,
 "nbformat_minor": 2
}
