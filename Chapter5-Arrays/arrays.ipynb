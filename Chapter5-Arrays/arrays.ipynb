{
 "cells": [
  {
   "cell_type": "markdown",
   "metadata": {},
   "source": [
    "# Arrays\n",
    "\n",
    "* the simplest data structure that represents a sequence\n",
    "    * object is stored in an array with a given index (i)\n",
    "* retrieving and updating A[i] takes O(1) time\n",
    "\n",
    "* Array problems often have simple brute-force solutions that use O(n) space\n",
    "    * use subtle solutions that use array itself to reduce space complexity\n",
    "    * filling in front of array is slow\n",
    "        * try filling from back\n",
    "    * deleting an entry requires moving all entries to the left\n",
    "        * try overwriting them\n",
    "    * consider processing the digits from the back of array\n",
    "    * be comfortable with writing code that operates on subarrays\n",
    "    * do NOT make off-by-1 errors\n"
   ]
  },
  {
   "cell_type": "code",
   "execution_count": 29,
   "metadata": {},
   "outputs": [],
   "source": [
    "B = [1, 2, 3, 4, 5]\n",
    "\n",
    "def even_odd(A):\n",
    "\n",
    "    # Setting next_even to index 0\n",
    "    next_even = 0 \n",
    "\n",
    "    # Setting next_odd to last index\n",
    "    next_odd = len(A) - 1\n",
    "\n",
    "    # Sanity Check: What does it looks like originally\n",
    "    print(f\"The original array: {A}\")\n",
    "    print(f\"Original indicies: {next_even, next_odd}\")\n",
    "    print(\"----------------------------\")\n",
    "    \n",
    "    # Loop through array until next_even meets with next_odd\n",
    "    # aka if the index of next_even crosses with next_odd, then that \n",
    "    # means the surpassed each other in the array\n",
    "    while next_even < next_odd:\n",
    "        \n",
    "        # Check if value is even\n",
    "        if A[next_even] % 2 == 0:\n",
    "            \n",
    "            ## If value is even, then increase next_even by 1\n",
    "            next_even += 1\n",
    "            \n",
    "            # Sanity Checks\n",
    "            print(f\"The new even index: {A[next_even]}\")\n",
    "            print(f\"The new indicies: {next_even, next_odd}\")\n",
    "            print(\"----------------------------\")\n",
    "\n",
    "        ## If value is NOT even\n",
    "        else:\n",
    "            \n",
    "            # That means it is odd and send it to the end of array\n",
    "            A[next_even], A[next_odd] = A[next_odd], A[next_even]\n",
    "\n",
    "            # Subtract from the index\n",
    "            next_odd -= 1\n",
    "            \n",
    "            # Sanity Checks\n",
    "            print(f\"The new indicies: {next_even, next_odd}\")\n",
    "            print(f\"The new values: {A[next_even], A[next_odd]}\")\n",
    "            print(f\"The new array: {A}\")\n",
    "            print(\"-------------------------------\")\n",
    "    \n",
    "    return A"
   ]
  },
  {
   "cell_type": "code",
   "execution_count": 30,
   "metadata": {},
   "outputs": [
    {
     "name": "stdout",
     "output_type": "stream",
     "text": [
      "The original array: [1, 2, 3, 4, 5]\n",
      "Original indicies: (0, 4)\n",
      "----------------------------\n",
      "The new indicies: (0, 3)\n",
      "The new values: (5, 4)\n",
      "The new array: [5, 2, 3, 4, 1]\n",
      "-------------------------------\n",
      "The new indicies: (0, 2)\n",
      "The new values: (4, 3)\n",
      "The new array: [4, 2, 3, 5, 1]\n",
      "-------------------------------\n",
      "The new even index: 2\n",
      "The new indicies: (1, 2)\n",
      "----------------------------\n",
      "The new even index: 3\n",
      "The new indicies: (2, 2)\n",
      "----------------------------\n"
     ]
    },
    {
     "data": {
      "text/plain": [
       "[4, 2, 3, 5, 1]"
      ]
     },
     "execution_count": 30,
     "metadata": {},
     "output_type": "execute_result"
    }
   ],
   "source": [
    "even_odd(B)"
   ]
  },
  {
   "cell_type": "markdown",
   "metadata": {},
   "source": [
    "## Slicing"
   ]
  },
  {
   "cell_type": "code",
   "execution_count": 31,
   "metadata": {},
   "outputs": [],
   "source": [
    "A = [1, 6, 3, 4, 5, 2, 7]"
   ]
  },
  {
   "cell_type": "code",
   "execution_count": 32,
   "metadata": {},
   "outputs": [
    {
     "data": {
      "text/plain": [
       "[3, 4]"
      ]
     },
     "execution_count": 32,
     "metadata": {},
     "output_type": "execute_result"
    }
   ],
   "source": [
    "# Slices starting from index 2 and stops at but not including 4th index\n",
    "A[2:4]"
   ]
  },
  {
   "cell_type": "code",
   "execution_count": 33,
   "metadata": {},
   "outputs": [
    {
     "data": {
      "text/plain": [
       "[1, 6, 3, 4]"
      ]
     },
     "execution_count": 33,
     "metadata": {},
     "output_type": "execute_result"
    }
   ],
   "source": [
    "# Slices starting from beginning and stops at but not including 4th index \n",
    "A[:4]"
   ]
  },
  {
   "cell_type": "code",
   "execution_count": 34,
   "metadata": {},
   "outputs": [
    {
     "data": {
      "text/plain": [
       "[1, 6, 3, 4, 5, 2]"
      ]
     },
     "execution_count": 34,
     "metadata": {},
     "output_type": "execute_result"
    }
   ],
   "source": [
    "# Slices starting from beginning and stops at but not including the last index\n",
    "\n",
    "A[:-1]\n"
   ]
  },
  {
   "cell_type": "code",
   "execution_count": 35,
   "metadata": {},
   "outputs": [
    {
     "data": {
      "text/plain": [
       "[5, 2, 7]"
      ]
     },
     "execution_count": 35,
     "metadata": {},
     "output_type": "execute_result"
    }
   ],
   "source": [
    "# Slices starting from the third to last index at stops to the end (includes last value)  \n",
    "\n",
    "A[-3:]"
   ]
  },
  {
   "cell_type": "code",
   "execution_count": 36,
   "metadata": {},
   "outputs": [
    {
     "data": {
      "text/plain": [
       "[5, 2]"
      ]
     },
     "execution_count": 36,
     "metadata": {},
     "output_type": "execute_result"
    }
   ],
   "source": [
    "# Slices starting from third to last index and stops but not including the last index\n",
    "\n",
    "A[-3:-1]"
   ]
  },
  {
   "cell_type": "code",
   "execution_count": 37,
   "metadata": {},
   "outputs": [
    {
     "data": {
      "text/plain": [
       "[6, 4]"
      ]
     },
     "execution_count": 37,
     "metadata": {},
     "output_type": "execute_result"
    }
   ],
   "source": [
    "# Slices starting from 1 index to the 5 index (not including) every second value \n",
    "A[1:5:2]"
   ]
  },
  {
   "cell_type": "code",
   "execution_count": 38,
   "metadata": {},
   "outputs": [
    {
     "data": {
      "text/plain": [
       "[2, 4]"
      ]
     },
     "execution_count": 38,
     "metadata": {},
     "output_type": "execute_result"
    }
   ],
   "source": [
    "# Slices backwards every second value starting from index 5 to but including 1\n",
    "\n",
    "A[5:1:-2]"
   ]
  },
  {
   "cell_type": "code",
   "execution_count": 39,
   "metadata": {},
   "outputs": [
    {
     "data": {
      "text/plain": [
       "[7, 2, 5, 4, 3, 6, 1]"
      ]
     },
     "execution_count": 39,
     "metadata": {},
     "output_type": "execute_result"
    }
   ],
   "source": [
    "# Reverses the array\n",
    "\n",
    "A[::-1]"
   ]
  },
  {
   "cell_type": "markdown",
   "metadata": {},
   "source": [
    "## Dutch National Flag Problem"
   ]
  },
  {
   "cell_type": "markdown",
   "metadata": {},
   "source": [
    "A type of quicksort solution that reorders the array so that all elements less than the pivot appear first -> elements equal to pivot -> elements greater than pivot. "
   ]
  },
  {
   "cell_type": "code",
   "execution_count": 55,
   "metadata": {},
   "outputs": [],
   "source": [
    "# First implementation\n",
    "'''\n",
    "Time complexity is O(n^2)\n",
    "    * there is a nested for loop\n",
    "Space complexity is O(1)\n",
    "'''\n",
    "\n",
    "def dutch_flag_partition(pivot_index: int, A: list[int]) -> None:\n",
    "    \n",
    "    # Get the value of the pivot_index\n",
    "    pivot = A[pivot_index]\n",
    "\n",
    "    # First pass that groups values smaller than pivot\n",
    "    \n",
    "    # Looping through A\n",
    "    for i in range(len(A)):\n",
    "        # print(f\"Starting Array: {A}\")\n",
    "        # print(f\"Index i: {i}\")\n",
    "        \n",
    "        # Looping through next index to A\n",
    "        for j in range(i+1, len(A)):\n",
    "            # print(f\"Index j: {j}\")\n",
    "            # If value is less than pivot\n",
    "            if A[j] < pivot:\n",
    "                \n",
    "                # Switch values\n",
    "                A[i], A[j] = A[j], A[i]\n",
    "                # print(f\"Ending Array: {A}\")\n",
    "                # print(\"------------------\")\n",
    "                break\n",
    "    \n",
    "    # Second pass that groups values bigger than pivot\n",
    "    \n",
    "    # Looping through A in reverse\n",
    "    for i in reversed(range(len(A))):\n",
    "        \n",
    "        # print(f\"Starting Array: {A}\")\n",
    "        # print(f\"Index i: {i}\")\n",
    "        \n",
    "        # Looping through current index to beginning\n",
    "        for j in reversed(range(i)):\n",
    "            \n",
    "            # print(f\"Index j: {j}\")\n",
    "\n",
    "            # If value is greater than pivot\n",
    "            if A[j] > pivot:\n",
    "\n",
    "                # Switch values\n",
    "                A[i], A[j] = A[j], A[i]\n",
    "                # print(f\"Ending Array: {A}\")\n",
    "                # print(\"------------------\")\n",
    "                break"
   ]
  },
  {
   "cell_type": "code",
   "execution_count": 58,
   "metadata": {},
   "outputs": [],
   "source": [
    "A = [0, 1, 2, 0, 2, 1, 1]"
   ]
  },
  {
   "cell_type": "code",
   "execution_count": 59,
   "metadata": {},
   "outputs": [
    {
     "name": "stdout",
     "output_type": "stream",
     "text": [
      "Starting Array: [0, 1, 2, 0, 2, 1, 1]\n",
      "Index i: 6\n",
      "Index j: 5\n",
      "Ending Array: [0, 1, 2, 0, 2, 1, 1]\n",
      "------------------\n",
      "Starting Array: [0, 1, 2, 0, 2, 1, 1]\n",
      "Index i: 5\n",
      "Index j: 4\n",
      "Ending Array: [0, 1, 2, 0, 1, 2, 1]\n",
      "------------------\n",
      "Starting Array: [0, 1, 2, 0, 1, 2, 1]\n",
      "Index i: 4\n",
      "Index j: 3\n",
      "Index j: 2\n",
      "Ending Array: [0, 1, 1, 0, 2, 2, 1]\n",
      "------------------\n",
      "Starting Array: [0, 1, 1, 0, 2, 2, 1]\n",
      "Index i: 3\n",
      "Index j: 2\n",
      "Ending Array: [0, 1, 0, 1, 2, 2, 1]\n",
      "------------------\n",
      "Starting Array: [0, 1, 0, 1, 2, 2, 1]\n",
      "Index i: 2\n",
      "Index j: 1\n",
      "Ending Array: [0, 0, 1, 1, 2, 2, 1]\n",
      "------------------\n",
      "Starting Array: [0, 0, 1, 1, 2, 2, 1]\n",
      "Index i: 1\n",
      "Index j: 0\n",
      "Starting Array: [0, 0, 1, 1, 2, 2, 1]\n",
      "Index i: 0\n"
     ]
    }
   ],
   "source": [
    "dutch_flag_partition(3, A)"
   ]
  },
  {
   "cell_type": "code",
   "execution_count": null,
   "metadata": {},
   "outputs": [],
   "source": [
    "# Second Implementation\n",
    "'''\n",
    "Time complexity is O(n)\n",
    "    * removed the nested for loop and used an index counter\n",
    "Space complexity is O(1)\n",
    "'''\n",
    "\n",
    "def dutch_flag_partition2(pivot_index: int, A: list[int]) -> None:\n",
    "    \n",
    "    # Getting value given the index of array\n",
    "    pivot = A[pivot_index]\n",
    "\n",
    "    # First pass to order smaller values\n",
    "\n",
    "    # Setting the index of smaller value\n",
    "    smaller = 0\n",
    "\n",
    "    # Looping through A\n",
    "    for i in range(len(A)):\n",
    "        \n",
    "        # If value of index is less than pivot\n",
    "        if A[i] < pivot:\n",
    "\n",
    "            # Switch values of the smaller value with the higher one \n",
    "            A[i], A[smaller] = A[smaller], A[i]\n",
    "            \n",
    "            # Go to the next index\n",
    "            smaller += 1\n",
    "    \n",
    "    # Second pass to order the larger value\n",
    "\n",
    "    # Setting index of the larger value\n",
    "    larger = len(A) - 1\n",
    "\n",
    "    # Loop through A in reverse\n",
    "    for i in reversed(range(len(A))):\n",
    "        \n",
    "        # If value is greater than pivot\n",
    "        if A[i] > pivot:\n",
    "\n",
    "            # Switch the values of the larger value and the index value\n",
    "            A[i], A[larger] = A[larger], A[i]\n",
    "            \n",
    "            # Go to the next index\n",
    "            larger -= 1"
   ]
  },
  {
   "cell_type": "code",
   "execution_count": null,
   "metadata": {},
   "outputs": [],
   "source": [
    "'''\n",
    "Each iteration decreases the size of the unknown class of a number (higher, lower, or \n",
    "equal to the pivot) by 1. The time spent within each iteration is O(1), therefore the \n",
    "time complexity is O(n)\n",
    "'''\n",
    "\n",
    "def dutch_flag_partition3(pivot_index: int, A: list[int]) -> None:\n",
    "\n",
    "    # Getting value of pivot index\n",
    "    pivot = A[pivot_index]\n",
    "\n",
    "    # Setting the index of the smaller, equal, larger\n",
    "    smaller, equal, larger = 0, 0, len(A)\n",
    "\n",
    "    # Keep looping until equal >= larger\n",
    "    while equal < larger:\n",
    "        \n",
    "        # Check to see if A[equal] is less than pivot\n",
    "        if A[equal] < pivot:\n",
    "\n",
    "            # If equal value is less than pivot, switch smaller value with equal value\n",
    "            A[smaller], A[equal] = A[equal], A[smaller]\n",
    "\n",
    "            # Increase the index of smaller and equal\n",
    "            smaller, equal = smaller + 1, equal + 1\n",
    "        \n",
    "        elif A[equal] == pivot:\n",
    "            equal += 1\n",
    "        else:\n",
    "            larger -= 1\n",
    "            A[equal], A[larger] = A[larger], A[equal]"
   ]
  },
  {
   "cell_type": "markdown",
   "metadata": {},
   "source": [
    "## 5.2 Increment an Arbitrary-Precision Integer\n",
    "Write a program which takes as input an array of digits encoding a nonnegative decimal integer D and updates the array to represent the integer D+1. For example, if the input is [1,4,9] then the program updates the array to [1,5,0] (149 + 1 = 150)."
   ]
  },
  {
   "cell_type": "code",
   "execution_count": 90,
   "metadata": {},
   "outputs": [],
   "source": [
    "def my_plus_one(arr: list[int]) -> list[int]:\n",
    "    arr[-1] += 1\n",
    "    if arr[-1] != 10:\n",
    "        # arr[-1] = arr[-1] + 1\n",
    "        return arr\n",
    "    else:\n",
    "        for i in reversed(range(0, len(arr))):\n",
    "            if arr[i] != 10:\n",
    "                break\n",
    "            else:\n",
    "                if i != 0:\n",
    "                    arr[i] = 0 \n",
    "                    arr[i-1] += 1\n",
    "                else:\n",
    "                    arr[0] = 1\n",
    "                    arr.append(0)\n",
    "    return arr"
   ]
  },
  {
   "cell_type": "code",
   "execution_count": null,
   "metadata": {},
   "outputs": [],
   "source": [
    "def plus_one(A: list[int]) -> list[int]:\n",
    "    \n",
    "    # Increase the last element by one\n",
    "    A[-1] += 1\n",
    "\n",
    "    # Loop through the numbers in reverse order\n",
    "    for i in reversed(range(1, len(A))):\n",
    "        \n",
    "        # if value is not 10, there is no 1's to carry over. Finish\n",
    "        if A[i] != 10:\n",
    "            break\n",
    "        \n",
    "        # Set the current value to 0\n",
    "        A[i] = 0\n",
    "\n",
    "        # Increase the next value (reversed!) by one\n",
    "        A[i-1] += 1\n",
    "\n",
    "    # Checking to see if last value is \n",
    "    else:\n",
    "        if A[0] == 10:\n",
    "            A[0] = 1\n",
    "            A.append(0)\n",
    "    \n",
    "    return A"
   ]
  },
  {
   "cell_type": "markdown",
   "metadata": {},
   "source": [
    "## 5.3 Multiply Two Arbitrary-Precision Integers\n",
    "Write a program that takes two arrays representing integers, and returns an array representing their product. If the product is negative, the first number should have the negative value\n"
   ]
  },
  {
   "cell_type": "code",
   "execution_count": 115,
   "metadata": {},
   "outputs": [],
   "source": [
    "def multiply(arr1: list[int], arr2: list[int]) -> list[int]:\n",
    "    \n",
    "    # Determine the sign of the product using ^ (bitwise XOR)\n",
    "    sign = -1 if (arr1[0] < 0) ^ (arr2[0] < 0) else 1\n",
    "\n",
    "    # Negating the negative value\n",
    "    arr1[0], arr2[0] = abs(arr1[0]), abs(arr2[0])\n",
    "\n",
    "    # Creating an empty array with size of both lengths of arrays\n",
    "    result = [0] * (len(arr1) + len(arr2))\n",
    "\n",
    "    '''\n",
    "        Plan: multiply one value of arr1 with all the values of arr2 and sum them up\n",
    "        Then go to the next value of arr1 and multiply that with all the values of arr2\n",
    "        At then end, sum up all the results\n",
    "    '''\n",
    "\n",
    "    # Looping through first array in reverse\n",
    "    for i in reversed(range(len(arr1))):\n",
    "\n",
    "        # Looping through the second array in reverse\n",
    "        for j in reversed(range(len(arr2))):\n",
    "            \n",
    "            # Multiplying the an integer of arr1 with an int of integer of arr2\n",
    "            result[i+j+1] += arr1[i] * arr2[j]\n",
    "\n",
    "            # Carry over the tenths place\n",
    "            result[i+j] += result[i+j+1]//10\n",
    "\n",
    "            # Set the value as the remainder\n",
    "            result[i+j+1] %= 10\n",
    "    \n",
    "    # Remove the leading zeros\n",
    "    # next: returns the next item in the iterator\n",
    "    result = result[\n",
    "        next(\n",
    "            (i for i, x in enumerate(result) if x != 0), \n",
    "            len(result) # default value to return if next reached the end of iterator\n",
    "        ):\n",
    "    ] or [0]\n",
    "\n",
    "    # Apply the sign to the first number and return the array\n",
    "    return [sign * result[0]] + result[1:]"
   ]
  },
  {
   "cell_type": "code",
   "execution_count": 117,
   "metadata": {},
   "outputs": [
    {
     "data": {
      "text/plain": [
       "[-1, 2, 1, 4, 0, 1]"
      ]
     },
     "execution_count": 117,
     "metadata": {},
     "output_type": "execute_result"
    }
   ],
   "source": [
    "multiply([1,2,3], [-9,8,7])"
   ]
  },
  {
   "cell_type": "markdown",
   "metadata": {},
   "source": [
    "## 5.4 Advancing Through an Array\n",
    "Write a program which takes an array of n integers, where A[i] denotes the maximum you can advance from index i, and returns whether it is possible to advance to the last index starting from the beginning of the array."
   ]
  },
  {
   "cell_type": "code",
   "execution_count": 118,
   "metadata": {},
   "outputs": [],
   "source": [
    "def can_reach_end(A: list[int]) -> bool:\n",
    "    \n",
    "    # Instantiating variables\n",
    "    furthest_reach, last_index = 0, len(A) - 1\n",
    "    i = 0\n",
    "\n",
    "    # Keep looping until furthest step reaches or passes last index AND if index is less than furthest step\n",
    "    '''\n",
    "    index is less than furthest step: if index passes furthest_step then that means that furthest_step is stuck at 0\n",
    "    furthest_reach needs to be less than last_index. If it is greater than, accomplished task\n",
    "    '''\n",
    "    while i <= furthest_reach and furthest_reach < last_index:\n",
    "        \n",
    "        # The furthest reach is the furthest index it can reach.\n",
    "        # Each iteration get the max  (current furthest reach with the possible current reach)\n",
    "        furthest_reach = max(furthest_reach, A[i] + i)\n",
    "        \n",
    "        # Increase the index by one\n",
    "        i += 1\n",
    "    \n",
    "    # return TRUE if furthest_reach reached or past last index else FALSE\n",
    "    return furthest_reach >= last_index"
   ]
  },
  {
   "cell_type": "code",
   "execution_count": 125,
   "metadata": {},
   "outputs": [
    {
     "data": {
      "text/plain": [
       "True"
      ]
     },
     "execution_count": 125,
     "metadata": {},
     "output_type": "execute_result"
    }
   ],
   "source": [
    "can_reach_end([3,0,2,0,4,0,4,1,1])"
   ]
  },
  {
   "cell_type": "markdown",
   "metadata": {},
   "source": [
    "VARIANT\n",
    "\n",
    "Write a program to compute the minimum number of steps needed to advance to the last location."
   ]
  },
  {
   "cell_type": "markdown",
   "metadata": {},
   "source": [
    "## 5.5 Delete Duplicates From a Sorted Array\n",
    "Write a program which takes as input a sorted array and updates it so that all duplicates have been removed and remaining elements have been shifted left to fill the emptied indices. "
   ]
  },
  {
   "cell_type": "code",
   "execution_count": 126,
   "metadata": {},
   "outputs": [],
   "source": [
    "def delete_duplicates(A: list[int]) -> int:\n",
    "    if not A:\n",
    "        return 0\n",
    "    \n",
    "    write_index = 1\n",
    "\n",
    "    for i in range(1, len(A)):\n",
    "        '''\n",
    "        if value of A[i] does not match with A[write_index], then A[write_index] get replaced with A[i]\n",
    "        write_index will keep moving along with the i index until it finds a duplicate. When it finds a \n",
    "        duplicate, it stays on it until it gets replaced with the next unique value\n",
    "        '''    \n",
    "        # Checking to see if there is duplicate with write_index\n",
    "        if A[write_index-1] != A[i]:\n",
    "            \n",
    "            # Overwriting current value with next value if duplicate with \n",
    "            A[write_index] = A[i]\n",
    "\n",
    "            # Increase the index of write index by 1\n",
    "            write_index += 1\n",
    "    \n",
    "    return write_index"
   ]
  },
  {
   "cell_type": "markdown",
   "metadata": {},
   "source": [
    "## 5.6 Buy and Sell a Stock Once\n",
    "Design an algorithm that determines the maximum profit that could have been made by buying and then selling a single share over a given day range.\n",
    "\n",
    "Write a program that takes an array denoting the daily stock price and returns the maximum profit that could be made by buying and then selling one share of that stock."
   ]
  },
  {
   "cell_type": "code",
   "execution_count": 148,
   "metadata": {},
   "outputs": [],
   "source": [
    "def my_stock_algo(arr):\n",
    "    max_profit = 0\n",
    "    for i in range(0,len(arr)):\n",
    "        for j in range(i, len(arr)):\n",
    "            diff = arr[j] - arr[i]\n",
    "            # print(f\"{arr[j]} - {arr[i]} = {diff}\")\n",
    "            max_profit = max(diff, max_profit)\n",
    "        # print(\"---------------\")\n",
    "    return max_profit"
   ]
  },
  {
   "cell_type": "code",
   "execution_count": 149,
   "metadata": {},
   "outputs": [
    {
     "data": {
      "text/plain": [
       "30"
      ]
     },
     "execution_count": 149,
     "metadata": {},
     "output_type": "execute_result"
    }
   ],
   "source": [
    "a = [310, 315, 275, 295, 260, 270, 290, 230, 255, 250]\n",
    "my_stock_algo(a)"
   ]
  },
  {
   "cell_type": "code",
   "execution_count": 151,
   "metadata": {},
   "outputs": [],
   "source": [
    "def buy_and_sell_stock_once(prices: list[float]) -> float:\n",
    "    \n",
    "    # Initiating the minimum and maximum price\n",
    "    min_price_so_far, max_profit = float('inf'), 0.0\n",
    "\n",
    "    # Loop through array\n",
    "    for price in prices:\n",
    "\n",
    "        # Subtracting current price with the minimum price\n",
    "        diff = price - min_price_so_far\n",
    "        \n",
    "        # Getting the max profit\n",
    "        max_profit = max(max_profit, diff)\n",
    "\n",
    "        # Keeping track of the smallest price\n",
    "        min_price_so_far = min(min_price_so_far, price)\n",
    "    \n",
    "    return max_profit\n"
   ]
  },
  {
   "cell_type": "code",
   "execution_count": 152,
   "metadata": {},
   "outputs": [
    {
     "data": {
      "text/plain": [
       "30"
      ]
     },
     "execution_count": 152,
     "metadata": {},
     "output_type": "execute_result"
    }
   ],
   "source": [
    "a = [310, 315, 275, 295, 260, 270, 290, 230, 255, 250]\n",
    "buy_and_sell_stock_once(a)"
   ]
  },
  {
   "cell_type": "markdown",
   "metadata": {},
   "source": [
    "## 5.7 Buy and Sell a Stock Twice\n",
    "Write a program that computes the maximum profit that can be made by buying and selling a share at most twice. The second buy must be made after the first sale."
   ]
  },
  {
   "cell_type": "code",
   "execution_count": 158,
   "metadata": {},
   "outputs": [],
   "source": [
    "def buy_and_sell_stock_twice(prices: list[float]) -> float:\n",
    "    \n",
    "    # Initializing the profits earned\n",
    "    max_total_profit, min_price_so_far = 0.0, float('inf')\n",
    "    \n",
    "    # Initializing the array that will contain max profit\n",
    "    first_buy_sell_profits = [0.0] * len(prices)\n",
    "\n",
    "    for i, price in enumerate(prices):\n",
    "        min_price_so_far = min(min_price_so_far, price)\n",
    "        max_total_profit = max(max_total_profit, price - min_price_so_far)\n",
    "        first_buy_sell_profits[i] = max_total_profit\n",
    "    \n",
    "    print(f\"first_buy_sell_profits: {first_buy_sell_profits}\")\n",
    "    \n",
    "    max_price_so_far = float('-inf')\n",
    "    for i, price in reversed(list(enumerate(prices[1:],1))):\n",
    "        max_price_so_far = max(max_price_so_far, price)\n",
    "        max_total_profit = max(\n",
    "            max_total_profit,\n",
    "            max_price_so_far - price + first_buy_sell_profits[i]\n",
    "        )\n",
    "    \n",
    "    # print(f\"max_profit: {first_buy_sell_profits}\")\n",
    "    \n",
    "    return max_total_profit"
   ]
  },
  {
   "cell_type": "code",
   "execution_count": 159,
   "metadata": {},
   "outputs": [
    {
     "name": "stdout",
     "output_type": "stream",
     "text": [
      "first_buy_sell_profits: [0.0, 0.0, 2, 2, 3, 3, 6, 6, 7]\n",
      "max_profit: [0.0, 0.0, 2, 2, 3, 3, 6, 6, 7]\n"
     ]
    },
    {
     "data": {
      "text/plain": [
       "10"
      ]
     },
     "execution_count": 159,
     "metadata": {},
     "output_type": "execute_result"
    }
   ],
   "source": [
    "arr = [12, 11, 13, 9, 12, 8, 14, 13, 15]\n",
    "buy_and_sell_stock_twice(arr)"
   ]
  },
  {
   "cell_type": "code",
   "execution_count": 161,
   "metadata": {},
   "outputs": [
    {
     "name": "stdout",
     "output_type": "stream",
     "text": [
      "(1, 11)\n",
      "(2, 13)\n",
      "(3, 9)\n",
      "(4, 12)\n",
      "(5, 8)\n",
      "(6, 14)\n",
      "(7, 13)\n",
      "(8, 15)\n"
     ]
    }
   ],
   "source": [
    "for i in enumerate(arr[1:], 1):\n",
    "    print(i)"
   ]
  },
  {
   "cell_type": "code",
   "execution_count": 164,
   "metadata": {},
   "outputs": [
    {
     "name": "stdout",
     "output_type": "stream",
     "text": [
      "8 15\n",
      "7 13\n",
      "6 14\n",
      "5 8\n",
      "4 12\n",
      "3 9\n",
      "2 13\n",
      "1 11\n"
     ]
    }
   ],
   "source": [
    "for i, price in reversed(list(enumerate(arr[1:], 1))):\n",
    "    print(i, price)"
   ]
  },
  {
   "cell_type": "code",
   "execution_count": null,
   "metadata": {},
   "outputs": [],
   "source": []
  }
 ],
 "metadata": {
  "kernelspec": {
   "display_name": "Python 3.10.6 64-bit",
   "language": "python",
   "name": "python3"
  },
  "language_info": {
   "codemirror_mode": {
    "name": "ipython",
    "version": 3
   },
   "file_extension": ".py",
   "mimetype": "text/x-python",
   "name": "python",
   "nbconvert_exporter": "python",
   "pygments_lexer": "ipython3",
   "version": "3.10.6"
  },
  "orig_nbformat": 4,
  "vscode": {
   "interpreter": {
    "hash": "aee8b7b246df8f9039afb4144a1f6fd8d2ca17a180786b69acc140d282b71a49"
   }
  }
 },
 "nbformat": 4,
 "nbformat_minor": 2
}
