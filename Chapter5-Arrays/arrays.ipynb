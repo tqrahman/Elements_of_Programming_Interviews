{
 "cells": [
  {
   "cell_type": "markdown",
   "metadata": {},
   "source": [
    "# Arrays\n",
    "\n",
    "* the simplest data structure that represents a sequence\n",
    "    * object is stored in an array with a given index (i)\n",
    "* retrieving and updating A[i] takes O(1) time\n",
    "\n",
    "* Array problems often have simple brute-force solutions that use O(n) space\n",
    "    * use subtle solutions that use array itself to reduce space complexity\n",
    "    * filling in front of array is slow\n",
    "        * try filling from back\n",
    "    * deleting an entry requires moving all entries to the left\n",
    "        * try overwriting them\n",
    "    * consider processing the digits from the back of array\n",
    "    * be comfortable with writing code that operates on subarrays\n",
    "    * do NOT make off-by-1 errors\n"
   ]
  },
  {
   "cell_type": "code",
   "execution_count": 29,
   "metadata": {},
   "outputs": [],
   "source": [
    "B = [1, 2, 3, 4, 5]\n",
    "\n",
    "def even_odd(A):\n",
    "\n",
    "    # Setting next_even to index 0\n",
    "    next_even = 0 \n",
    "\n",
    "    # Setting next_odd to last index\n",
    "    next_odd = len(A) - 1\n",
    "\n",
    "    # Sanity Check: What does it looks like originally\n",
    "    print(f\"The original array: {A}\")\n",
    "    print(f\"Original indicies: {next_even, next_odd}\")\n",
    "    print(\"----------------------------\")\n",
    "    \n",
    "    # Loop through array until next_even meets with next_odd\n",
    "    # aka if the index of next_even crosses with next_odd, then that \n",
    "    # means the surpassed each other in the array\n",
    "    while next_even < next_odd:\n",
    "        \n",
    "        # Check if value is even\n",
    "        if A[next_even] % 2 == 0:\n",
    "            \n",
    "            ## If value is even, then increase next_even by 1\n",
    "            next_even += 1\n",
    "            \n",
    "            # Sanity Checks\n",
    "            print(f\"The new even index: {A[next_even]}\")\n",
    "            print(f\"The new indicies: {next_even, next_odd}\")\n",
    "            print(\"----------------------------\")\n",
    "\n",
    "        ## If value is NOT even\n",
    "        else:\n",
    "            \n",
    "            # That means it is odd and send it to the end of array\n",
    "            A[next_even], A[next_odd] = A[next_odd], A[next_even]\n",
    "\n",
    "            # Subtract from the index\n",
    "            next_odd -= 1\n",
    "            \n",
    "            # Sanity Checks\n",
    "            print(f\"The new indicies: {next_even, next_odd}\")\n",
    "            print(f\"The new values: {A[next_even], A[next_odd]}\")\n",
    "            print(f\"The new array: {A}\")\n",
    "            print(\"-------------------------------\")\n",
    "    \n",
    "    return A"
   ]
  },
  {
   "cell_type": "code",
   "execution_count": 30,
   "metadata": {},
   "outputs": [
    {
     "name": "stdout",
     "output_type": "stream",
     "text": [
      "The original array: [1, 2, 3, 4, 5]\n",
      "Original indicies: (0, 4)\n",
      "----------------------------\n",
      "The new indicies: (0, 3)\n",
      "The new values: (5, 4)\n",
      "The new array: [5, 2, 3, 4, 1]\n",
      "-------------------------------\n",
      "The new indicies: (0, 2)\n",
      "The new values: (4, 3)\n",
      "The new array: [4, 2, 3, 5, 1]\n",
      "-------------------------------\n",
      "The new even index: 2\n",
      "The new indicies: (1, 2)\n",
      "----------------------------\n",
      "The new even index: 3\n",
      "The new indicies: (2, 2)\n",
      "----------------------------\n"
     ]
    },
    {
     "data": {
      "text/plain": [
       "[4, 2, 3, 5, 1]"
      ]
     },
     "execution_count": 30,
     "metadata": {},
     "output_type": "execute_result"
    }
   ],
   "source": [
    "even_odd(B)"
   ]
  },
  {
   "cell_type": "markdown",
   "metadata": {},
   "source": [
    "## Slicing"
   ]
  },
  {
   "cell_type": "code",
   "execution_count": 31,
   "metadata": {},
   "outputs": [],
   "source": [
    "A = [1, 6, 3, 4, 5, 2, 7]"
   ]
  },
  {
   "cell_type": "code",
   "execution_count": 32,
   "metadata": {},
   "outputs": [
    {
     "data": {
      "text/plain": [
       "[3, 4]"
      ]
     },
     "execution_count": 32,
     "metadata": {},
     "output_type": "execute_result"
    }
   ],
   "source": [
    "# Slices starting from index 2 and stops at but not including 4th index\n",
    "A[2:4]"
   ]
  },
  {
   "cell_type": "code",
   "execution_count": 33,
   "metadata": {},
   "outputs": [
    {
     "data": {
      "text/plain": [
       "[1, 6, 3, 4]"
      ]
     },
     "execution_count": 33,
     "metadata": {},
     "output_type": "execute_result"
    }
   ],
   "source": [
    "# Slices starting from beginning and stops at but not including 4th index \n",
    "A[:4]"
   ]
  },
  {
   "cell_type": "code",
   "execution_count": 34,
   "metadata": {},
   "outputs": [
    {
     "data": {
      "text/plain": [
       "[1, 6, 3, 4, 5, 2]"
      ]
     },
     "execution_count": 34,
     "metadata": {},
     "output_type": "execute_result"
    }
   ],
   "source": [
    "# Slices starting from beginning and stops at but not including the last index\n",
    "\n",
    "A[:-1]\n"
   ]
  },
  {
   "cell_type": "code",
   "execution_count": 35,
   "metadata": {},
   "outputs": [
    {
     "data": {
      "text/plain": [
       "[5, 2, 7]"
      ]
     },
     "execution_count": 35,
     "metadata": {},
     "output_type": "execute_result"
    }
   ],
   "source": [
    "# Slices starting from the third to last index at stops to the end (includes last value)  \n",
    "\n",
    "A[-3:]"
   ]
  },
  {
   "cell_type": "code",
   "execution_count": 36,
   "metadata": {},
   "outputs": [
    {
     "data": {
      "text/plain": [
       "[5, 2]"
      ]
     },
     "execution_count": 36,
     "metadata": {},
     "output_type": "execute_result"
    }
   ],
   "source": [
    "# Slices starting from third to last index and stops but not including the last index\n",
    "\n",
    "A[-3:-1]"
   ]
  },
  {
   "cell_type": "code",
   "execution_count": 37,
   "metadata": {},
   "outputs": [
    {
     "data": {
      "text/plain": [
       "[6, 4]"
      ]
     },
     "execution_count": 37,
     "metadata": {},
     "output_type": "execute_result"
    }
   ],
   "source": [
    "# Slices starting from 1 index to the 5 index (not including) every second value \n",
    "A[1:5:2]"
   ]
  },
  {
   "cell_type": "code",
   "execution_count": 38,
   "metadata": {},
   "outputs": [
    {
     "data": {
      "text/plain": [
       "[2, 4]"
      ]
     },
     "execution_count": 38,
     "metadata": {},
     "output_type": "execute_result"
    }
   ],
   "source": [
    "# Slices backwards every second value starting from index 5 to but including 1\n",
    "\n",
    "A[5:1:-2]"
   ]
  },
  {
   "cell_type": "code",
   "execution_count": 39,
   "metadata": {},
   "outputs": [
    {
     "data": {
      "text/plain": [
       "[7, 2, 5, 4, 3, 6, 1]"
      ]
     },
     "execution_count": 39,
     "metadata": {},
     "output_type": "execute_result"
    }
   ],
   "source": [
    "# Reverses the array\n",
    "\n",
    "A[::-1]"
   ]
  },
  {
   "cell_type": "markdown",
   "metadata": {},
   "source": [
    "## Dutch National Flag Problem"
   ]
  },
  {
   "cell_type": "markdown",
   "metadata": {},
   "source": [
    "A type of quicksort solution that reorders the array so that all elements less than the pivot appear first -> elements equal to pivot -> elements greater than pivot. "
   ]
  },
  {
   "cell_type": "code",
   "execution_count": 55,
   "metadata": {},
   "outputs": [],
   "source": [
    "# First implementation\n",
    "'''\n",
    "Time complexity is O(n^2)\n",
    "    * there is a nested for loop\n",
    "Space complexity is O(1)\n",
    "'''\n",
    "\n",
    "def dutch_flag_partition(pivot_index: int, A: list[int]) -> None:\n",
    "    \n",
    "    # Get the value of the pivot_index\n",
    "    pivot = A[pivot_index]\n",
    "\n",
    "    # First pass that groups values smaller than pivot\n",
    "    \n",
    "    # Looping through A\n",
    "    for i in range(len(A)):\n",
    "        # print(f\"Starting Array: {A}\")\n",
    "        # print(f\"Index i: {i}\")\n",
    "        \n",
    "        # Looping through next index to A\n",
    "        for j in range(i+1, len(A)):\n",
    "            # print(f\"Index j: {j}\")\n",
    "            # If value is less than pivot\n",
    "            if A[j] < pivot:\n",
    "                \n",
    "                # Switch values\n",
    "                A[i], A[j] = A[j], A[i]\n",
    "                # print(f\"Ending Array: {A}\")\n",
    "                # print(\"------------------\")\n",
    "                break\n",
    "    \n",
    "    # Second pass that groups values bigger than pivot\n",
    "    \n",
    "    # Looping through A in reverse\n",
    "    for i in reversed(range(len(A))):\n",
    "        \n",
    "        # print(f\"Starting Array: {A}\")\n",
    "        # print(f\"Index i: {i}\")\n",
    "        \n",
    "        # Looping through current index to beginning\n",
    "        for j in reversed(range(i)):\n",
    "            \n",
    "            # print(f\"Index j: {j}\")\n",
    "\n",
    "            # If value is greater than pivot\n",
    "            if A[j] > pivot:\n",
    "\n",
    "                # Switch values\n",
    "                A[i], A[j] = A[j], A[i]\n",
    "                # print(f\"Ending Array: {A}\")\n",
    "                # print(\"------------------\")\n",
    "                break"
   ]
  },
  {
   "cell_type": "code",
   "execution_count": 58,
   "metadata": {},
   "outputs": [],
   "source": [
    "A = [0, 1, 2, 0, 2, 1, 1]"
   ]
  },
  {
   "cell_type": "code",
   "execution_count": 59,
   "metadata": {},
   "outputs": [
    {
     "name": "stdout",
     "output_type": "stream",
     "text": [
      "Starting Array: [0, 1, 2, 0, 2, 1, 1]\n",
      "Index i: 6\n",
      "Index j: 5\n",
      "Ending Array: [0, 1, 2, 0, 2, 1, 1]\n",
      "------------------\n",
      "Starting Array: [0, 1, 2, 0, 2, 1, 1]\n",
      "Index i: 5\n",
      "Index j: 4\n",
      "Ending Array: [0, 1, 2, 0, 1, 2, 1]\n",
      "------------------\n",
      "Starting Array: [0, 1, 2, 0, 1, 2, 1]\n",
      "Index i: 4\n",
      "Index j: 3\n",
      "Index j: 2\n",
      "Ending Array: [0, 1, 1, 0, 2, 2, 1]\n",
      "------------------\n",
      "Starting Array: [0, 1, 1, 0, 2, 2, 1]\n",
      "Index i: 3\n",
      "Index j: 2\n",
      "Ending Array: [0, 1, 0, 1, 2, 2, 1]\n",
      "------------------\n",
      "Starting Array: [0, 1, 0, 1, 2, 2, 1]\n",
      "Index i: 2\n",
      "Index j: 1\n",
      "Ending Array: [0, 0, 1, 1, 2, 2, 1]\n",
      "------------------\n",
      "Starting Array: [0, 0, 1, 1, 2, 2, 1]\n",
      "Index i: 1\n",
      "Index j: 0\n",
      "Starting Array: [0, 0, 1, 1, 2, 2, 1]\n",
      "Index i: 0\n"
     ]
    }
   ],
   "source": [
    "dutch_flag_partition(3, A)"
   ]
  },
  {
   "cell_type": "code",
   "execution_count": null,
   "metadata": {},
   "outputs": [],
   "source": [
    "# Second Implementation\n",
    "'''\n",
    "Time complexity is O(n)\n",
    "    * removed the nested for loop and used an index counter\n",
    "Space complexity is O(1)\n",
    "'''\n",
    "\n",
    "def dutch_flag_partition(pivot_index: int, A: list[int]) -> None:\n",
    "    \n",
    "    # Getting value given the index of array\n",
    "    pivot = A[pivot_index]\n",
    "\n",
    "    # First pass to order smaller values\n",
    "\n",
    "    # Setting the index of smaller value\n",
    "    smaller = 0\n",
    "\n",
    "    # Looping through A\n",
    "    for i in range(len(A)):\n",
    "        \n",
    "        # If value of index is less than pivot\n",
    "        if A[i] < pivot:\n",
    "\n",
    "            # Switch values of the smaller value with the higher one \n",
    "            A[i], A[smaller] = A[smaller], A[i]\n",
    "            \n",
    "            # Go to the next index\n",
    "            smaller += 1\n",
    "    \n",
    "    # Second pass to order the larger value\n",
    "\n",
    "    # Setting index of the larger value\n",
    "    larger = len(A) - 1\n",
    "\n",
    "    # Loop through A in reverse\n",
    "    for i in reversed(range(len(A))):\n",
    "        \n",
    "        # If value is greater than pivot\n",
    "        if A[i] > pivot:\n",
    "\n",
    "            # Switch the values of the larger value and the index value\n",
    "            A[i], A[larger] = A[larger], A[i]\n",
    "            \n",
    "            # Go to the next index\n",
    "            larger -= 1"
   ]
  }
 ],
 "metadata": {
  "kernelspec": {
   "display_name": "Python 3.10.6 64-bit",
   "language": "python",
   "name": "python3"
  },
  "language_info": {
   "codemirror_mode": {
    "name": "ipython",
    "version": 3
   },
   "file_extension": ".py",
   "mimetype": "text/x-python",
   "name": "python",
   "nbconvert_exporter": "python",
   "pygments_lexer": "ipython3",
   "version": "3.10.6"
  },
  "orig_nbformat": 4,
  "vscode": {
   "interpreter": {
    "hash": "aee8b7b246df8f9039afb4144a1f6fd8d2ca17a180786b69acc140d282b71a49"
   }
  }
 },
 "nbformat": 4,
 "nbformat_minor": 2
}
