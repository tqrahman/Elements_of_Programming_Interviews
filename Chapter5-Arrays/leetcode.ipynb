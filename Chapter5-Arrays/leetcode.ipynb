{
 "cells": [
  {
   "cell_type": "code",
   "execution_count": null,
   "metadata": {},
   "outputs": [],
   "source": [
    "\n",
    "        # Intiating the first max sum as the first value of nums\n",
    "        max_sum = nums[0]\n",
    "        \n",
    "        # Starting a sum\n",
    "        current_sum = 0\n",
    "        \n",
    "        # Loop through each value\n",
    "        for num in nums:\n",
    "            \n",
    "            # If the current sum is negative, then set it to 0\n",
    "            # WHY: Since the maximum sum is needed, adding a negative value will\n",
    "            # decrease the sum, so better to start back from 0\n",
    "            if current_sum < 0:\n",
    "                current_sum = 0\n",
    "            \n",
    "            # Add current value to current_sum\n",
    "            current_sum += num\n",
    "            \n",
    "            # Find the bigger value between max_sum and current_sum \n",
    "            max_sum = max(max_sum, current_sum)\n",
    "        \n",
    "        return max_sum\n",
    "        "
   ]
  },
  {
   "cell_type": "code",
   "execution_count": 1,
   "metadata": {},
   "outputs": [],
   "source": [
    "import numpy as np\n",
    "\n",
    "matrix = np.array([\n",
    "    [0.7, 0.2, 0.1],\n",
    "    [0.2, 0.5, 0.3],\n",
    "    [0.1, 0.1, 0.8]\n",
    "])"
   ]
  },
  {
   "cell_type": "code",
   "execution_count": 29,
   "metadata": {},
   "outputs": [],
   "source": [
    "y = np.array([\n",
    "    [0],\n",
    "    [1],\n",
    "    [1]\n",
    "])"
   ]
  },
  {
   "cell_type": "code",
   "execution_count": 30,
   "metadata": {},
   "outputs": [
    {
     "data": {
      "text/plain": [
       "array([[0],\n",
       "       [1],\n",
       "       [1]])"
      ]
     },
     "execution_count": 30,
     "metadata": {},
     "output_type": "execute_result"
    }
   ],
   "source": [
    "y"
   ]
  },
  {
   "cell_type": "code",
   "execution_count": 31,
   "metadata": {},
   "outputs": [],
   "source": [
    "import tensorflow as tf\n",
    "\n",
    "labels = np.argmax(tf.keras.utils.to_categorical(y), axis=1)"
   ]
  },
  {
   "cell_type": "code",
   "execution_count": 32,
   "metadata": {},
   "outputs": [
    {
     "data": {
      "text/plain": [
       "array([[0.7, 0.2, 0.1],\n",
       "       [0.2, 0.5, 0.3],\n",
       "       [0.1, 0.1, 0.8]])"
      ]
     },
     "execution_count": 32,
     "metadata": {},
     "output_type": "execute_result"
    }
   ],
   "source": [
    "matrix"
   ]
  },
  {
   "cell_type": "code",
   "execution_count": 33,
   "metadata": {},
   "outputs": [],
   "source": [
    "predictions = np.argmax(matrix, axis=1)"
   ]
  },
  {
   "cell_type": "code",
   "execution_count": 34,
   "metadata": {},
   "outputs": [
    {
     "data": {
      "text/plain": [
       "0.6666666666666666"
      ]
     },
     "execution_count": 34,
     "metadata": {},
     "output_type": "execute_result"
    }
   ],
   "source": [
    "np.mean(labels == predictions)"
   ]
  },
  {
   "cell_type": "code",
   "execution_count": 37,
   "metadata": {},
   "outputs": [
    {
     "data": {
      "text/plain": [
       "' '"
      ]
     },
     "execution_count": 37,
     "metadata": {},
     "output_type": "execute_result"
    }
   ],
   "source": [
    "s = \" \"\n",
    "s[0]"
   ]
  },
  {
   "cell_type": "code",
   "execution_count": 38,
   "metadata": {},
   "outputs": [
    {
     "data": {
      "text/plain": [
       "False"
      ]
     },
     "execution_count": 38,
     "metadata": {},
     "output_type": "execute_result"
    }
   ],
   "source": [
    "s[0] in []"
   ]
  },
  {
   "cell_type": "code",
   "execution_count": 52,
   "metadata": {},
   "outputs": [],
   "source": [
    "s = \"dvdf\"\n",
    "substring = []"
   ]
  },
  {
   "cell_type": "code",
   "execution_count": 43,
   "metadata": {},
   "outputs": [
    {
     "data": {
      "text/plain": [
       "['d', 'v', 'd', 'f']"
      ]
     },
     "execution_count": 43,
     "metadata": {},
     "output_type": "execute_result"
    }
   ],
   "source": [
    "for i in s:\n",
    "    substring.append(i)\n",
    "substring"
   ]
  },
  {
   "cell_type": "code",
   "execution_count": 46,
   "metadata": {},
   "outputs": [
    {
     "data": {
      "text/plain": [
       "['v', 'd', 'f']"
      ]
     },
     "execution_count": 46,
     "metadata": {},
     "output_type": "execute_result"
    }
   ],
   "source": [
    "substring[substring.index('d')+1:]"
   ]
  },
  {
   "cell_type": "code",
   "execution_count": 53,
   "metadata": {},
   "outputs": [
    {
     "name": "stdout",
     "output_type": "stream",
     "text": [
      "Pointer: 0\n",
      "substring: ['d']\n",
      "Pointer: 1\n",
      "substring: ['d', 'v']\n",
      "Pointer: 2\n",
      "substring: ['v', 'd']\n",
      "Pointer: 3\n",
      "substring: ['v', 'd', 'f']\n"
     ]
    }
   ],
   "source": [
    "pointer = 0\n",
    "longest = 0\n",
    "substring = []\n",
    "\n",
    "while pointer < len(s):\n",
    "    print(f\"Pointer: {pointer}\")\n",
    "    if s[pointer] in substring:\n",
    "        longest = max(longest, len(substring))\n",
    "        substring = substring[substring.index(s[pointer]) + 1:]\n",
    "        substring.append(s[pointer])\n",
    "        print(f\"substring: {substring}\")\n",
    "    else:\n",
    "        substring.append(s[pointer])\n",
    "        print(f\"substring: {substring}\")\n",
    "\n",
    "    pointer += 1\n",
    "\n",
    "longest = max(longest, len(substring))"
   ]
  },
  {
   "cell_type": "code",
   "execution_count": 48,
   "metadata": {},
   "outputs": [
    {
     "data": {
      "text/plain": [
       "2"
      ]
     },
     "execution_count": 48,
     "metadata": {},
     "output_type": "execute_result"
    }
   ],
   "source": [
    "longest"
   ]
  },
  {
   "cell_type": "code",
   "execution_count": 55,
   "metadata": {},
   "outputs": [
    {
     "name": "stdout",
     "output_type": "stream",
     "text": [
      "False\n"
     ]
    }
   ],
   "source": [
    "solutions = []\n",
    "if solutions:\n",
    "    print(True)\n",
    "else:\n",
    "    print(False)"
   ]
  },
  {
   "cell_type": "code",
   "execution_count": null,
   "metadata": {},
   "outputs": [],
   "source": []
  }
 ],
 "metadata": {
  "kernelspec": {
   "display_name": "Python 3.10.6 64-bit",
   "language": "python",
   "name": "python3"
  },
  "language_info": {
   "codemirror_mode": {
    "name": "ipython",
    "version": 3
   },
   "file_extension": ".py",
   "mimetype": "text/x-python",
   "name": "python",
   "nbconvert_exporter": "python",
   "pygments_lexer": "ipython3",
   "version": "3.10.6"
  },
  "orig_nbformat": 4,
  "vscode": {
   "interpreter": {
    "hash": "aee8b7b246df8f9039afb4144a1f6fd8d2ca17a180786b69acc140d282b71a49"
   }
  }
 },
 "nbformat": 4,
 "nbformat_minor": 2
}
